{
 "cells": [
  {
   "cell_type": "code",
   "execution_count": 1,
   "id": "e9a8f357",
   "metadata": {},
   "outputs": [],
   "source": [
    "import torch\n",
    "import torch.nn as nn\n",
    "import torch.nn.functional as F\n",
    "import numpy as np\n",
    "from torch.utils.data import Dataset, DataLoader\n",
    "from sklearn.preprocessing import LabelEncoder\n",
    "from sklearn.model_selection import train_test_split\n",
    "import os\n",
    "from sklearn.metrics import classification_report, confusion_matrix\n",
    "import seaborn as sns\n",
    "import json\n",
    "import matplotlib.pyplot as plt\n",
    "import gc\n",
    "from tqdm import tqdm\n",
    "\n",
    "# Constants\n",
    "NUM_POSE_LANDMARKS = 19   \n",
    "NUM_HAND_LANDMARKS = 21\n",
    "NUM_NODES = NUM_POSE_LANDMARKS + NUM_HAND_LANDMARKS*2  # Total nodes in the graph\n",
    "FEATURE_DIM = 3  # x, y coordinates + visibility\n",
    "\n",
    "class GCNLayer(nn.Module):\n",
    "    def __init__(self, in_features, out_features,dropout=0.5):\n",
    "        super(GCNLayer, self).__init__()\n",
    "        # self.linear = nn.Linear(in_features, out_features,bias=True)\n",
    "        self.conv = nn.Conv1d(in_features, out_features, kernel_size=1, bias=True)\n",
    "        self.dropout = nn.Dropout(dropout)\n",
    "\n",
    "    def forward(self, x, adj):\n",
    "        # x: (batch_size * seq_len, num_nodes, in_features)\n",
    "        # adj: (num_nodes, num_nodes) - shared across all samples\n",
    "        \n",
    "        # Ensure adj is on the same device as x\n",
    "        if adj.device != x.device:\n",
    "            adj = adj.to(x.device)\n",
    "            \n",
    "        # Expand adj to match batch dimension\n",
    "        batch_size_seq = x.size(0)\n",
    "        adj_expanded = adj.unsqueeze(0).expand(batch_size_seq, -1, -1)\n",
    "        \n",
    "        # Graph convolution: first aggregate neighborhood features\n",
    "        x = torch.bmm(adj_expanded, x)  # (batch_size * seq_len, num_nodes, in_features)\n",
    "        \n",
    "        # For Conv1d: input needs to be (batch, channels, length)\n",
    "        # So we permute from (batch, nodes, features) to (batch, features, nodes)\n",
    "        x = x.permute(0, 2, 1)  # -> (batch_size * seq_len, in_features, num_nodes)\n",
    "        \n",
    "        # Apply convolution\n",
    "        x = self.conv(x)  # (batch_size * seq_len, out_features, num_nodes)\n",
    "        \n",
    "        # Permute back to original format\n",
    "        x = x.permute(0, 2, 1)  # -> (batch_size * seq_len, num_nodes, out_features)\n",
    "        \n",
    "        x = F.gelu(x)\n",
    "        x = self.dropout(x)\n",
    "        return x\n",
    "\n",
    "class GCNBiLSTM(nn.Module):\n",
    "    def __init__(self, num_nodes=NUM_NODES, in_features=FEATURE_DIM, \n",
    "                 gcn_hidden=64, lstm_hidden=128, num_classes=10, \n",
    "                 num_gcn_layers=2, dropout=0.5, label_map=None):\n",
    "        super(GCNBiLSTM, self).__init__()\n",
    "        \n",
    "        # Create multiple GCN layers\n",
    "        self.gcn_layers = nn.ModuleList()\n",
    "        self.gcn_layers.append(GCNLayer(in_features, gcn_hidden,dropout))\n",
    "        \n",
    "        for _ in range(num_gcn_layers - 1):\n",
    "            self.gcn_layers.append(GCNLayer(gcn_hidden, gcn_hidden,dropout))\n",
    "        \n",
    "        # Bidirectional LSTM layer\n",
    "        self.lstm = nn.LSTM(\n",
    "            input_size=num_nodes * gcn_hidden, \n",
    "            hidden_size=lstm_hidden, \n",
    "            num_layers=2,\n",
    "            batch_first=True, \n",
    "            bidirectional=True,\n",
    "            dropout=dropout if num_gcn_layers > 1 else 0\n",
    "        )\n",
    "        \n",
    "        # Attention mechanism\n",
    "        self.attention = nn.Sequential(\n",
    "            nn.Linear(lstm_hidden * 2, 64),\n",
    "            nn.Tanh(),\n",
    "            nn.Linear(64, 1)\n",
    "        )\n",
    "        \n",
    "        # Output classification layers\n",
    "        self.classifier = nn.Sequential(\n",
    "            nn.Linear(lstm_hidden * 2, lstm_hidden),\n",
    "            nn.ReLU(),\n",
    "            nn.Dropout(dropout),\n",
    "            nn.Linear(lstm_hidden, num_classes)\n",
    "        )\n",
    "        \n",
    "        self.dropout = nn.Dropout(dropout)\n",
    "        self.label_map = label_map\n",
    "        self.num_nodes = num_nodes\n",
    "        self.gcn_hidden = gcn_hidden\n",
    "\n",
    "    def forward(self, x, adj):\n",
    "        # x shape: (batch_size, seq_len, num_nodes * in_features)\n",
    "        # Reshape to (batch_size, seq_len, num_nodes, in_features)\n",
    "        batch_size, seq_len, _ = x.size()\n",
    "        x = x.view(batch_size, seq_len, self.num_nodes, -1)\n",
    "        \n",
    "        # Process each time step through GCN\n",
    "        gcn_outputs = []\n",
    "        for t in range(seq_len):\n",
    "            # Get current time step data\n",
    "            curr_x = x[:, t, :, :]  # (batch_size, num_nodes, in_features)\n",
    "            \n",
    "            # Process through GCN layers\n",
    "            for gcn_layer in self.gcn_layers:\n",
    "                curr_x = gcn_layer(curr_x, adj)\n",
    "                curr_x = self.dropout(curr_x)\n",
    "            \n",
    "            # Flatten node features\n",
    "            # curr_x = curr_x.view(batch_size, -1)  # (batch_size, num_nodes * gcn_hidden)\n",
    "            curr_x = curr_x.contiguous().view(batch_size, -1)\n",
    "            gcn_outputs.append(curr_x)\n",
    "        \n",
    "        # Stack outputs to (batch_size, seq_len, num_nodes * gcn_hidden)\n",
    "        gcn_out = torch.stack(gcn_outputs, dim=1)\n",
    "        \n",
    "        # Process through BiLSTM\n",
    "        lstm_out, _ = self.lstm(gcn_out)  # (batch_size, seq_len, lstm_hidden * 2)\n",
    "        \n",
    "        # Apply attention mechanism\n",
    "        attn_weights = self.attention(lstm_out).squeeze(-1)  # (batch_size, seq_len)\n",
    "        attn_weights = F.softmax(attn_weights, dim=1).unsqueeze(-1)  # (batch_size, seq_len, 1)\n",
    "        \n",
    "        # Weighted sum of LSTM outputs\n",
    "        context = torch.sum(lstm_out * attn_weights, dim=1)  # (batch_size, lstm_hidden * 2)\n",
    "        \n",
    "        # Final classification\n",
    "        output = self.classifier(context)\n",
    "        \n",
    "        return output\n",
    "    \n",
    "    def predict_label(self, x, adj):\n",
    "        self.eval() \n",
    "        with torch.no_grad():\n",
    "            logits = self.forward(x, adj)  # Forward pass\n",
    "            pred_classes = torch.argmax(logits, dim=1)  # Get the predicted class (index)\n",
    "            \n",
    "            if self.label_map is not None:\n",
    "                pred_labels = [self.label_map[int(idx)] for idx in pred_classes.cpu().numpy()]\n",
    "                return pred_labels\n",
    "            else:\n",
    "                return pred_classes\n",
    "\n",
    "\n",
    "\n",
    "class GraphSequenceDataset(Dataset):\n",
    "    def __init__(self, sequences, labels):\n",
    "        self.sequences = torch.tensor(sequences, dtype=torch.float32)\n",
    "        self.labels = torch.tensor(labels, dtype=torch.long)\n",
    "        \n",
    "    def __len__(self):\n",
    "        return len(self.sequences)\n",
    "    \n",
    "    def __getitem__(self, idx):\n",
    "        return self.sequences[idx], self.labels[idx]\n",
    "\n",
    "\n",
    "def parse_frame(frame,):\n",
    "    keypoints = []\n",
    "    for part in ['pose', 'left_hand', 'right_hand']:\n",
    "        for landmark in frame.get(part, []):\n",
    "            keypoints.extend([landmark['x'], landmark['y'], landmark['visibility']])\n",
    "    return keypoints\n",
    "\n",
    "\n",
    "def load_and_preprocess_data(data_dir, sequence_length=15):\n",
    "    \"\"\"\n",
    "    Load and preprocess the JSON files into sequences.\n",
    "    \n",
    "    Args:\n",
    "        data_dir: Directory containing the data\n",
    "        sequence_length: Number of frames in each sequence\n",
    "        \n",
    "    Returns:\n",
    "        sequences: array of shape (num_sequences, sequence_length, num_nodes * features)\n",
    "        sequence_labels: array of class labels\n",
    "        label_encoder: fitted LabelEncoder\n",
    "    \"\"\"\n",
    "    frame_data = []\n",
    "    raw_labels = []\n",
    "    \n",
    "    # Step 1: Collect all labels\n",
    "    for root, dirs, files in os.walk(data_dir):\n",
    "        for file in files:\n",
    "            if file.endswith(\".json\"):\n",
    "                label = os.path.basename(os.path.dirname(os.path.join(root, file)))\n",
    "                raw_labels.append(label)\n",
    "    \n",
    "    # Step 2: Fit label encoder\n",
    "    encoder = LabelEncoder()\n",
    "    encoder.fit(raw_labels)\n",
    "    label_map = {label: int(encoder.transform([label])[0]) for label in set(raw_labels)}\n",
    "    \n",
    "    sequences = []\n",
    "    sequence_labels = []\n",
    "\n",
    "    # Step 3: Parse frames and assign encoded labels\n",
    "    for root, dirs, files in os.walk(data_dir):\n",
    "        for file in files:\n",
    "            if file.endswith(\".json\"):\n",
    "                label = os.path.basename(os.path.dirname(os.path.join(root, file)))\n",
    "                encoded_label = label_map[label]\n",
    "                with open(os.path.join(root, file), 'r') as f:\n",
    "                    frames = json.load(f)\n",
    "                    features=[]\n",
    "                    for frame in frames:\n",
    "                        features.append(parse_frame(frame))\n",
    "                        # frame_data.append([np.array(features), encoded_label])\n",
    "                    sequences.append(np.stack(features))\n",
    "                    sequence_labels.append(encoded_label)\n",
    "    idx_to_label = {v: k for k, v in label_map.items()}\n",
    "    label_map = idx_to_label\n",
    "    del idx_to_label\n",
    "    gc.collect()\n",
    "    \n",
    "    return np.array(sequences), np.array(sequence_labels), label_map\n",
    "\n",
    "\n",
    "def create_adjacency_matrix():\n",
    "    \"\"\"Create the adjacency matrix for the graph.\"\"\"\n",
    "\n",
    "    pose_connections = [\n",
    "        # Mouth\n",
    "        (9,10),\n",
    "        # Left Eyes\n",
    "        (1,2),(2,3),(3,7),\n",
    "        # Right Eyes\n",
    "        (4,5),(5,6),(6,8),\n",
    "        # Nose\n",
    "        (0,4),(0,1),\n",
    "        # Shoulders\n",
    "        (11, 12),\n",
    "        # Connect shoulders to hip\n",
    "        (11, 17), (12, 18),\n",
    "        # Connect hip points\n",
    "        (17, 18),\n",
    "        # Left arm\n",
    "        (11, 13), (13, 15),\n",
    "        # Right arm\n",
    "        (12, 14), (14, 16)\n",
    "    ]\n",
    "\n",
    "    hand_connections = [\n",
    "        # Thumb\n",
    "        (0, 1), (1, 2), (2, 3), (3, 4),\n",
    "        # Index finger\n",
    "        (0, 5), (5, 6), (6, 7), (7, 8),\n",
    "        # Middle finger\n",
    "        (0, 9), (9, 10), (10, 11), (11, 12),\n",
    "        # Ring finger\n",
    "        (0, 13), (13, 14), (14, 15), (15, 16),\n",
    "        # Pinky\n",
    "        (0, 17), (17, 18), (18, 19), (19, 20),\n",
    "        # Palm connections\n",
    "        (5, 9), (9, 13), (13, 17)\n",
    "    ]\n",
    "    \n",
    "    def create_adj_matrix(num_nodes, connections):\n",
    "        adj_matrix = np.zeros((num_nodes, num_nodes))\n",
    "        for i, j in connections:\n",
    "            adj_matrix[i, j] = 1\n",
    "            adj_matrix[j, i] = 1\n",
    "        # Add self-loops\n",
    "        for i in range(num_nodes):\n",
    "            adj_matrix[i, i] = 1\n",
    "        return adj_matrix\n",
    "\n",
    "    pose_adj_matrix = create_adj_matrix(NUM_POSE_LANDMARKS, pose_connections)\n",
    "    left_hand_adj_matrix = create_adj_matrix(NUM_HAND_LANDMARKS, hand_connections)\n",
    "    right_hand_adj_matrix = create_adj_matrix(NUM_HAND_LANDMARKS, hand_connections)\n",
    "\n",
    "    # Calculate the total number of nodes\n",
    "    total_nodes = NUM_POSE_LANDMARKS + NUM_HAND_LANDMARKS + NUM_HAND_LANDMARKS\n",
    "\n",
    "    # Initialize a global adjacency matrix\n",
    "    global_adj_matrix = np.zeros((total_nodes, total_nodes))\n",
    "    \n",
    "    # start_pose = NUM_FACE_LANDMARKS\n",
    "    start_pose=0\n",
    "    end_pose = start_pose + NUM_POSE_LANDMARKS\n",
    "    global_adj_matrix[start_pose:end_pose, start_pose:end_pose] = pose_adj_matrix\n",
    "    \n",
    "    start_lh = end_pose\n",
    "    end_lh = start_lh + NUM_HAND_LANDMARKS\n",
    "    global_adj_matrix[start_lh:end_lh, start_lh:end_lh] = left_hand_adj_matrix\n",
    "    \n",
    "    start_rh = end_lh\n",
    "    end_rh = start_rh + NUM_HAND_LANDMARKS\n",
    "    global_adj_matrix[start_rh:end_rh, start_rh:end_rh] = right_hand_adj_matrix\n",
    "    \n",
    "    # Connect pose to hands\n",
    "    pose_hand_connections = [\n",
    "        (start_pose + 15, start_lh),  # Left hand wrist to left hand base\n",
    "        (start_pose + 16, start_rh),  # Right hand wrist to right hand base\n",
    "    ]\n",
    "    for i, j in pose_hand_connections:\n",
    "        global_adj_matrix[i, j] = 1\n",
    "        global_adj_matrix[j, i] = 1\n",
    "\n",
    "    # Normalize adjacency matrix (D^-0.5 * A * D^-0.5)\n",
    "    # Add identity matrix to include self-connections\n",
    "    adj_matrix = global_adj_matrix + np.eye(total_nodes)\n",
    "    \n",
    "    # Calculate degree matrix\n",
    "    degree_matrix = np.diag(np.sum(adj_matrix, axis=1))\n",
    "    \n",
    "    # D^-0.5\n",
    "    deg_inv_sqrt = np.linalg.inv(np.sqrt(degree_matrix))\n",
    "    \n",
    "    # Normalized adjacency matrix\n",
    "    normalized_adj_matrix = deg_inv_sqrt @ adj_matrix @ deg_inv_sqrt\n",
    "\n",
    "    return torch.FloatTensor(normalized_adj_matrix)\n",
    "\n",
    "\n",
    "def train_model(model, train_loader, val_loader, adj_matrix, num_epochs=50, lr=0.001, \n",
    "               weight_decay=1e-5, patience=10, model_save_path='best_model.pt'):\n",
    "    \"\"\"\n",
    "    Train the GCNBiLSTM model\n",
    "    \n",
    "    Args:\n",
    "        model: GCNBiLSTM model\n",
    "        train_loader: DataLoader for training data\n",
    "        val_loader: DataLoader for validation data\n",
    "        adj_matrix: Normalized adjacency matrix\n",
    "        num_epochs: Number of training epochs\n",
    "        lr: Learning rate\n",
    "        weight_decay: Weight decay factor\n",
    "        patience: Early stopping patience\n",
    "        model_save_path: Path to save best model\n",
    "        \n",
    "    Returns:\n",
    "        model: Trained model\n",
    "        train_losses: List of training losses\n",
    "        val_losses: List of validation losses\n",
    "        train_accs: List of training accuracies\n",
    "        val_accs: List of validation accuracies\n",
    "    \"\"\"\n",
    "    device = torch.device('cuda' if torch.cuda.is_available() else 'cpu')\n",
    "    print(f\"Using device: {device}\")\n",
    "    \n",
    "    model = model.to(device)\n",
    "    adj_matrix = adj_matrix.to(device)\n",
    "    \n",
    "    criterion = nn.CrossEntropyLoss()\n",
    "    optimizer = torch.optim.Adam(model.parameters(), lr=lr, weight_decay=weight_decay)\n",
    "\n",
    "    scheduler = torch.optim.lr_scheduler.ReduceLROnPlateau(optimizer, 'min', patience=5, factor=0.5)\n",
    "\n",
    "    \n",
    "    train_losses = []\n",
    "    val_losses = []\n",
    "    train_accs = []\n",
    "    val_accs = []\n",
    "    \n",
    "    best_val_loss = float('inf')\n",
    "    early_stop_counter = 0\n",
    "    \n",
    "    for epoch in range(num_epochs):\n",
    "        # Training phase\n",
    "        model.train()\n",
    "        train_loss = 0.0\n",
    "        correct = 0\n",
    "        total = 0\n",
    "        \n",
    "        progress_bar = tqdm(train_loader, desc=f\"Epoch {epoch+1}/{num_epochs} [Train]\")\n",
    "        for batch_idx, (inputs, targets) in enumerate(progress_bar):\n",
    "            inputs, targets = inputs.to(device), targets.to(device)\n",
    "            \n",
    "            optimizer.zero_grad()\n",
    "            outputs = model(inputs, adj_matrix)\n",
    "            \n",
    "            loss = criterion(outputs, targets)\n",
    "            loss.backward()\n",
    "            \n",
    "            # Optional: gradient clipping\n",
    "            torch.nn.utils.clip_grad_norm_(model.parameters(), max_norm=5.0)\n",
    "            \n",
    "            optimizer.step()\n",
    "            \n",
    "            train_loss += loss.item()\n",
    "            _, predicted = outputs.max(1)\n",
    "            total += targets.size(0)\n",
    "            correct += predicted.eq(targets).sum().item()\n",
    "            \n",
    "            progress_bar.set_postfix({\n",
    "                'loss': train_loss/(batch_idx+1), \n",
    "                'acc': 100.*correct/total\n",
    "            })\n",
    "        \n",
    "        train_loss = train_loss / len(train_loader)\n",
    "        train_acc = 100. * correct / total\n",
    "        train_losses.append(train_loss)\n",
    "        train_accs.append(train_acc)\n",
    "        \n",
    "        # Validation phase\n",
    "        model.eval()\n",
    "        val_loss = 0.0\n",
    "        correct = 0\n",
    "        total = 0\n",
    "        \n",
    "        with torch.no_grad():\n",
    "            for batch_idx, (inputs, targets) in enumerate(val_loader):\n",
    "                inputs, targets = inputs.to(device), targets.to(device)\n",
    "                outputs = model(inputs, adj_matrix)\n",
    "                \n",
    "                loss = criterion(outputs, targets)\n",
    "                val_loss += loss.item()\n",
    "                \n",
    "                _, predicted = outputs.max(1)\n",
    "                total += targets.size(0)\n",
    "                correct += predicted.eq(targets).sum().item()\n",
    "        \n",
    "        val_loss = val_loss / len(val_loader)\n",
    "        val_acc = 100. * correct / total\n",
    "        val_losses.append(val_loss)\n",
    "        val_accs.append(val_acc)\n",
    "        \n",
    "        # Update learning rate\n",
    "        scheduler.step(val_loss)\n",
    "        \n",
    "        print(f\"Epoch {epoch+1}/{num_epochs} - \"\n",
    "              f\"Train Loss: {train_loss:.4f}, Train Acc: {train_acc:.2f}% - \"\n",
    "              f\"Val Loss: {val_loss:.4f}, Val Acc: {val_acc:.2f}%\")\n",
    "        \n",
    "        # Save best model\n",
    "        if val_loss < best_val_loss:\n",
    "            best_val_loss = val_loss\n",
    "            # Save only the model state dict\n",
    "            torch.save({'model_state_dict':model.state_dict(),'label_map':model.label_map}, model_save_path)\n",
    "            \n",
    "            \n",
    "            early_stop_counter = 0\n",
    "            print(f\"Saved best model to {model_save_path}\")\n",
    "        else:\n",
    "            early_stop_counter += 1\n",
    "            \n",
    "        # Early stopping\n",
    "        if early_stop_counter >= patience:\n",
    "            print(f\"Early stopping triggered after {epoch+1} epochs\")\n",
    "            break\n",
    "    \n",
    "    # Load best model\n",
    "    checkpoint = torch.load(model_save_path)\n",
    "    model.load_state_dict(checkpoint['model_state_dict'])\n",
    "    model.label_map = checkpoint['label_map']\n",
    "    return model, train_losses, val_losses, train_accs, val_accs\n",
    "\n",
    "\n",
    "def evaluate_model(model, test_loader, adj_matrix):\n",
    "    \"\"\"\n",
    "    Evaluate the model on test data\n",
    "    \n",
    "    Args:\n",
    "        model: Trained GCNBiLSTM model\n",
    "        test_loader: DataLoader for test data\n",
    "        adj_matrix: Normalized adjacency matrix\n",
    "        \n",
    "    Returns:\n",
    "        test_acc: Test accuracy\n",
    "        predictions: Predicted labels\n",
    "        true_labels: True labels\n",
    "    \"\"\"\n",
    "    device = torch.device('cuda' if torch.cuda.is_available() else 'cpu')\n",
    "    model = model.to(device)\n",
    "    adj_matrix = adj_matrix.to(device)\n",
    "    \n",
    "    model.eval()\n",
    "    correct = 0\n",
    "    total = 0\n",
    "    \n",
    "    all_preds = []\n",
    "    all_targets = []\n",
    "    \n",
    "    with torch.no_grad():\n",
    "        for inputs, targets in test_loader:\n",
    "            inputs, targets = inputs.to(device), targets.to(device)\n",
    "            outputs = model(inputs, adj_matrix)\n",
    "            \n",
    "            _, predicted = outputs.max(1)\n",
    "            total += targets.size(0)\n",
    "            correct += predicted.eq(targets).sum().item()\n",
    "            \n",
    "            all_preds.extend(predicted.cpu().numpy())\n",
    "            all_targets.extend(targets.cpu().numpy())\n",
    "    \n",
    "    test_acc = 100. * correct / total\n",
    "    print(f\"Test Accuracy: {test_acc:.2f}%\")\n",
    "    \n",
    "    return test_acc, np.array(all_preds), np.array(all_targets)\n",
    "\n",
    "\n",
    "def plot_results(train_losses, val_losses, train_accs, val_accs):\n",
    "    \"\"\"\n",
    "    Plot training and validation metrics\n",
    "    \n",
    "    Args:\n",
    "        train_losses: List of training losses\n",
    "        val_losses: List of validation losses\n",
    "        train_accs: List of training accuracies\n",
    "        val_accs: List of validation accuracies\n",
    "    \"\"\"\n",
    "    plt.figure(figsize=(12, 5))\n",
    "    \n",
    "    plt.subplot(1, 2, 1)\n",
    "    plt.plot(train_losses, label='Train Loss')\n",
    "    plt.plot(val_losses, label='Val Loss')\n",
    "    plt.xlabel('Epoch')\n",
    "    plt.ylabel('Loss')\n",
    "    plt.legend()\n",
    "    plt.title('Training and Validation Loss')\n",
    "    \n",
    "    plt.subplot(1, 2, 2)\n",
    "    plt.plot(train_accs, label='Train Accuracy')\n",
    "    plt.plot(val_accs, label='Val Accuracy')\n",
    "    plt.xlabel('Epoch')\n",
    "    plt.ylabel('Accuracy (%)')\n",
    "    plt.legend()\n",
    "    plt.title('Training and Validation Accuracy')\n",
    "    \n",
    "    plt.tight_layout()\n",
    "    plt.savefig('training_history.png')\n",
    "    plt.show()\n",
    "\n",
    "\n",
    "def main():\n",
    "    torch.serialization.add_safe_globals([LabelEncoder])\n",
    "    # Set random seeds for reproducibility\n",
    "    SEED = 42\n",
    "    torch.manual_seed(SEED)\n",
    "    np.random.seed(SEED)\n",
    "    \n",
    "    # 1. Load and preprocess data\n",
    "    data_dir = \"data\"  # Update with your data directory\n",
    "    test_dir = \"test_data\"\n",
    "    sequences, sequence_labels, label_map = load_and_preprocess_data(data_dir)\n",
    "    \n",
    "    print(f\"Loaded {len(sequences)} sequences with shape {sequences.shape}\")\n",
    "    print(f'Sequence Label {len(sequence_labels)}')\n",
    "    print(f\"Number of classes: {len(label_map)}\")\n",
    "    \n",
    "    # 2. Create adjacency matrix\n",
    "\n",
    "    adj_matrix = create_adjacency_matrix()\n",
    "    print(f'Unique Label : {len(np.unique(sequence_labels))}')\n",
    "    X_train,X_val,y_train,y_val = train_test_split(\n",
    "        sequences, sequence_labels, test_size=0.4, random_state=SEED, stratify=sequence_labels\n",
    "    )\n",
    "    print(f'Unique Train : {len(np.unique(y_train))}')\n",
    "    print(f'Unique Val : {len(np.unique(y_val))}')\n",
    "    X_val,X_test,y_val,y_test = train_test_split(\n",
    "        X_val, y_val, test_size=0.5, random_state=SEED, stratify=y_val\n",
    "    )\n",
    "    print(f'Unique Train : {len(np.unique(y_train))}')\n",
    "    print(f'Unique Test : {len(np.unique(y_test))}')\n",
    "    # X_test,y_test, _ = load_and_preprocess_data(test_dir)\n",
    "\n",
    "\n",
    "    # 4. Create datasets and dataloaders\n",
    "    train_dataset = GraphSequenceDataset(X_train, y_train)\n",
    "    val_dataset = GraphSequenceDataset(X_val, y_val)\n",
    "    test_dataset = GraphSequenceDataset(X_test, y_test)\n",
    "    \n",
    "    train_loader = DataLoader(train_dataset, batch_size=32, shuffle=True)\n",
    "    val_loader = DataLoader(val_dataset, batch_size=32, shuffle=False)\n",
    "    test_loader = DataLoader(test_dataset, batch_size=32, shuffle=False)\n",
    "    \n",
    "    # 5. Create and train the model\n",
    "    num_classes = len(label_map)\n",
    "    model = GCNBiLSTM(\n",
    "        num_nodes=NUM_NODES,\n",
    "        in_features=FEATURE_DIM,\n",
    "        gcn_hidden=256,\n",
    "        lstm_hidden=512,\n",
    "        num_classes=num_classes,\n",
    "        num_gcn_layers=2,\n",
    "        dropout=0.3,\n",
    "        label_map=label_map\n",
    "    )\n",
    "    \n",
    "    # 6. Train the model\n",
    "    trained_model, train_losses, val_losses, train_accs, val_accs = train_model(\n",
    "        model, train_loader, val_loader, adj_matrix, \n",
    "        num_epochs=100, lr=0.001, weight_decay=5e-4, \n",
    "        patience=15, model_save_path='best_gcn_bilstm_model.pt'\n",
    "    )\n",
    "    \n",
    "    # 7. Evaluate the model\n",
    "    test_acc, predictions, true_labels = evaluate_model(trained_model, test_loader, adj_matrix)\n",
    "    \n",
    "    # 8. Plot results\n",
    "    plot_results(train_losses, val_losses, train_accs, val_accs)\n",
    "    \n",
    "    # 9. Print classification report\n",
    "    \n",
    "    \n",
    "    print(\"\\nClassification Report:\")\n",
    "    actual_classes = np.unique(true_labels)\n",
    "    print(actual_classes)\n",
    "    class_names = [label_map[int(idx)] for idx in actual_classes]\n",
    "    print(classification_report(true_labels, predictions, target_names=class_names))\n",
    "    \n",
    "    # 10. Plot confusion matrix\n",
    "    plt.figure(figsize=(12, 10))\n",
    "    cm = confusion_matrix(true_labels, predictions)\n",
    "    sns.heatmap(cm, annot=True, fmt='d', cmap='Blues', xticklabels=class_names, yticklabels=class_names)\n",
    "    plt.xlabel('Predicted')\n",
    "    plt.ylabel('True')\n",
    "    plt.title('Confusion Matrix')\n",
    "    plt.tight_layout()\n",
    "    plt.savefig('confusion_matrix.png')\n",
    "    plt.show()\n"
   ]
  },
  {
   "cell_type": "code",
   "execution_count": 2,
   "id": "70decb63",
   "metadata": {},
   "outputs": [
    {
     "name": "stdout",
     "output_type": "stream",
     "text": [
      "Loaded 5643 sequences with shape (5643, 3, 183)\n",
      "Sequence Label 5643\n",
      "Number of classes: 51\n",
      "Unique Label : 51\n",
      "Unique Train : 51\n",
      "Unique Val : 51\n",
      "Unique Train : 51\n",
      "Unique Test : 51\n",
      "Using device: cuda\n"
     ]
    },
    {
     "name": "stderr",
     "output_type": "stream",
     "text": [
      "Epoch 1/100 [Train]: 100%|██████████| 106/106 [00:04<00:00, 21.63it/s, loss=3.24, acc=8.39]\n"
     ]
    },
    {
     "name": "stdout",
     "output_type": "stream",
     "text": [
      "Epoch 1/100 - Train Loss: 3.2447, Train Acc: 8.39% - Val Loss: 2.9506, Val Acc: 10.89%\n",
      "Saved best model to best_gcn_bilstm_model.pt\n"
     ]
    },
    {
     "name": "stderr",
     "output_type": "stream",
     "text": [
      "Epoch 2/100 [Train]: 100%|██████████| 106/106 [00:04<00:00, 24.73it/s, loss=2.94, acc=11.8]\n"
     ]
    },
    {
     "name": "stdout",
     "output_type": "stream",
     "text": [
      "Epoch 2/100 - Train Loss: 2.9434, Train Acc: 11.82% - Val Loss: 2.8766, Val Acc: 14.08%\n",
      "Saved best model to best_gcn_bilstm_model.pt\n"
     ]
    },
    {
     "name": "stderr",
     "output_type": "stream",
     "text": [
      "Epoch 3/100 [Train]: 100%|██████████| 106/106 [00:04<00:00, 25.03it/s, loss=2.87, acc=13.3]\n"
     ]
    },
    {
     "name": "stdout",
     "output_type": "stream",
     "text": [
      "Epoch 3/100 - Train Loss: 2.8734, Train Acc: 13.32% - Val Loss: 2.9031, Val Acc: 11.60%\n"
     ]
    },
    {
     "name": "stderr",
     "output_type": "stream",
     "text": [
      "Epoch 4/100 [Train]: 100%|██████████| 106/106 [00:04<00:00, 24.63it/s, loss=2.8, acc=15.1]\n"
     ]
    },
    {
     "name": "stdout",
     "output_type": "stream",
     "text": [
      "Epoch 4/100 - Train Loss: 2.7979, Train Acc: 15.07% - Val Loss: 2.7328, Val Acc: 16.21%\n",
      "Saved best model to best_gcn_bilstm_model.pt\n"
     ]
    },
    {
     "name": "stderr",
     "output_type": "stream",
     "text": [
      "Epoch 5/100 [Train]: 100%|██████████| 106/106 [00:04<00:00, 24.47it/s, loss=2.61, acc=20.1]\n"
     ]
    },
    {
     "name": "stdout",
     "output_type": "stream",
     "text": [
      "Epoch 5/100 - Train Loss: 2.6057, Train Acc: 20.12% - Val Loss: 2.4283, Val Acc: 26.13%\n",
      "Saved best model to best_gcn_bilstm_model.pt\n"
     ]
    },
    {
     "name": "stderr",
     "output_type": "stream",
     "text": [
      "Epoch 6/100 [Train]: 100%|██████████| 106/106 [00:04<00:00, 24.76it/s, loss=2.45, acc=26]  \n"
     ]
    },
    {
     "name": "stdout",
     "output_type": "stream",
     "text": [
      "Epoch 6/100 - Train Loss: 2.4539, Train Acc: 25.97% - Val Loss: 2.3292, Val Acc: 30.65%\n",
      "Saved best model to best_gcn_bilstm_model.pt\n"
     ]
    },
    {
     "name": "stderr",
     "output_type": "stream",
     "text": [
      "Epoch 7/100 [Train]: 100%|██████████| 106/106 [00:04<00:00, 24.74it/s, loss=2.29, acc=30] \n"
     ]
    },
    {
     "name": "stdout",
     "output_type": "stream",
     "text": [
      "Epoch 7/100 - Train Loss: 2.2889, Train Acc: 29.99% - Val Loss: 2.0924, Val Acc: 34.01%\n",
      "Saved best model to best_gcn_bilstm_model.pt\n"
     ]
    },
    {
     "name": "stderr",
     "output_type": "stream",
     "text": [
      "Epoch 8/100 [Train]: 100%|██████████| 106/106 [00:04<00:00, 23.79it/s, loss=2.08, acc=36.4]\n"
     ]
    },
    {
     "name": "stdout",
     "output_type": "stream",
     "text": [
      "Epoch 8/100 - Train Loss: 2.0797, Train Acc: 36.37% - Val Loss: 1.8916, Val Acc: 40.39%\n",
      "Saved best model to best_gcn_bilstm_model.pt\n"
     ]
    },
    {
     "name": "stderr",
     "output_type": "stream",
     "text": [
      "Epoch 9/100 [Train]: 100%|██████████| 106/106 [00:04<00:00, 23.34it/s, loss=1.92, acc=39.7]\n"
     ]
    },
    {
     "name": "stdout",
     "output_type": "stream",
     "text": [
      "Epoch 9/100 - Train Loss: 1.9168, Train Acc: 39.68% - Val Loss: 1.7903, Val Acc: 44.46%\n",
      "Saved best model to best_gcn_bilstm_model.pt\n"
     ]
    },
    {
     "name": "stderr",
     "output_type": "stream",
     "text": [
      "Epoch 10/100 [Train]: 100%|██████████| 106/106 [00:04<00:00, 23.83it/s, loss=1.75, acc=45.2]\n"
     ]
    },
    {
     "name": "stdout",
     "output_type": "stream",
     "text": [
      "Epoch 10/100 - Train Loss: 1.7506, Train Acc: 45.17% - Val Loss: 1.6826, Val Acc: 48.18%\n",
      "Saved best model to best_gcn_bilstm_model.pt\n"
     ]
    },
    {
     "name": "stderr",
     "output_type": "stream",
     "text": [
      "Epoch 11/100 [Train]: 100%|██████████| 106/106 [00:04<00:00, 26.01it/s, loss=1.71, acc=45.5]\n"
     ]
    },
    {
     "name": "stdout",
     "output_type": "stream",
     "text": [
      "Epoch 11/100 - Train Loss: 1.7085, Train Acc: 45.49% - Val Loss: 1.7242, Val Acc: 44.64%\n"
     ]
    },
    {
     "name": "stderr",
     "output_type": "stream",
     "text": [
      "Epoch 12/100 [Train]: 100%|██████████| 106/106 [00:04<00:00, 23.39it/s, loss=1.62, acc=48.9]\n"
     ]
    },
    {
     "name": "stdout",
     "output_type": "stream",
     "text": [
      "Epoch 12/100 - Train Loss: 1.6178, Train Acc: 48.89% - Val Loss: 1.5700, Val Acc: 51.02%\n",
      "Saved best model to best_gcn_bilstm_model.pt\n"
     ]
    },
    {
     "name": "stderr",
     "output_type": "stream",
     "text": [
      "Epoch 13/100 [Train]: 100%|██████████| 106/106 [00:03<00:00, 27.28it/s, loss=1.57, acc=49.7]\n"
     ]
    },
    {
     "name": "stdout",
     "output_type": "stream",
     "text": [
      "Epoch 13/100 - Train Loss: 1.5671, Train Acc: 49.72% - Val Loss: 1.4661, Val Acc: 53.85%\n",
      "Saved best model to best_gcn_bilstm_model.pt\n"
     ]
    },
    {
     "name": "stderr",
     "output_type": "stream",
     "text": [
      "Epoch 14/100 [Train]: 100%|██████████| 106/106 [00:03<00:00, 27.51it/s, loss=1.51, acc=51.5]\n"
     ]
    },
    {
     "name": "stdout",
     "output_type": "stream",
     "text": [
      "Epoch 14/100 - Train Loss: 1.5106, Train Acc: 51.52% - Val Loss: 1.4410, Val Acc: 55.80%\n",
      "Saved best model to best_gcn_bilstm_model.pt\n"
     ]
    },
    {
     "name": "stderr",
     "output_type": "stream",
     "text": [
      "Epoch 15/100 [Train]: 100%|██████████| 106/106 [00:03<00:00, 26.63it/s, loss=1.45, acc=52.8]\n"
     ]
    },
    {
     "name": "stdout",
     "output_type": "stream",
     "text": [
      "Epoch 15/100 - Train Loss: 1.4452, Train Acc: 52.82% - Val Loss: 1.4643, Val Acc: 54.30%\n"
     ]
    },
    {
     "name": "stderr",
     "output_type": "stream",
     "text": [
      "Epoch 16/100 [Train]: 100%|██████████| 106/106 [00:03<00:00, 27.25it/s, loss=1.38, acc=55]  \n"
     ]
    },
    {
     "name": "stdout",
     "output_type": "stream",
     "text": [
      "Epoch 16/100 - Train Loss: 1.3826, Train Acc: 54.98% - Val Loss: 1.4156, Val Acc: 57.40%\n",
      "Saved best model to best_gcn_bilstm_model.pt\n"
     ]
    },
    {
     "name": "stderr",
     "output_type": "stream",
     "text": [
      "Epoch 17/100 [Train]: 100%|██████████| 106/106 [00:03<00:00, 28.18it/s, loss=1.36, acc=56.6]\n"
     ]
    },
    {
     "name": "stdout",
     "output_type": "stream",
     "text": [
      "Epoch 17/100 - Train Loss: 1.3581, Train Acc: 56.60% - Val Loss: 1.3688, Val Acc: 57.66%\n",
      "Saved best model to best_gcn_bilstm_model.pt\n"
     ]
    },
    {
     "name": "stderr",
     "output_type": "stream",
     "text": [
      "Epoch 18/100 [Train]: 100%|██████████| 106/106 [00:03<00:00, 27.73it/s, loss=1.31, acc=56.8]\n"
     ]
    },
    {
     "name": "stdout",
     "output_type": "stream",
     "text": [
      "Epoch 18/100 - Train Loss: 1.3122, Train Acc: 56.81% - Val Loss: 1.3383, Val Acc: 58.81%\n",
      "Saved best model to best_gcn_bilstm_model.pt\n"
     ]
    },
    {
     "name": "stderr",
     "output_type": "stream",
     "text": [
      "Epoch 19/100 [Train]: 100%|██████████| 106/106 [00:03<00:00, 28.10it/s, loss=1.26, acc=58.8]\n"
     ]
    },
    {
     "name": "stdout",
     "output_type": "stream",
     "text": [
      "Epoch 19/100 - Train Loss: 1.2594, Train Acc: 58.79% - Val Loss: 1.3111, Val Acc: 60.76%\n",
      "Saved best model to best_gcn_bilstm_model.pt\n"
     ]
    },
    {
     "name": "stderr",
     "output_type": "stream",
     "text": [
      "Epoch 20/100 [Train]: 100%|██████████| 106/106 [00:03<00:00, 26.97it/s, loss=1.22, acc=60]  \n"
     ]
    },
    {
     "name": "stdout",
     "output_type": "stream",
     "text": [
      "Epoch 20/100 - Train Loss: 1.2156, Train Acc: 60.03% - Val Loss: 1.3677, Val Acc: 58.90%\n"
     ]
    },
    {
     "name": "stderr",
     "output_type": "stream",
     "text": [
      "Epoch 21/100 [Train]: 100%|██████████| 106/106 [00:03<00:00, 27.15it/s, loss=1.2, acc=60.2] \n"
     ]
    },
    {
     "name": "stdout",
     "output_type": "stream",
     "text": [
      "Epoch 21/100 - Train Loss: 1.2008, Train Acc: 60.21% - Val Loss: 1.3543, Val Acc: 56.86%\n"
     ]
    },
    {
     "name": "stderr",
     "output_type": "stream",
     "text": [
      "Epoch 22/100 [Train]: 100%|██████████| 106/106 [00:03<00:00, 27.23it/s, loss=1.17, acc=61.4]\n"
     ]
    },
    {
     "name": "stdout",
     "output_type": "stream",
     "text": [
      "Epoch 22/100 - Train Loss: 1.1728, Train Acc: 61.42% - Val Loss: 1.2542, Val Acc: 60.23%\n",
      "Saved best model to best_gcn_bilstm_model.pt\n"
     ]
    },
    {
     "name": "stderr",
     "output_type": "stream",
     "text": [
      "Epoch 23/100 [Train]: 100%|██████████| 106/106 [00:03<00:00, 27.74it/s, loss=1.13, acc=62.6]\n"
     ]
    },
    {
     "name": "stdout",
     "output_type": "stream",
     "text": [
      "Epoch 23/100 - Train Loss: 1.1329, Train Acc: 62.60% - Val Loss: 1.2982, Val Acc: 61.65%\n"
     ]
    },
    {
     "name": "stderr",
     "output_type": "stream",
     "text": [
      "Epoch 24/100 [Train]: 100%|██████████| 106/106 [00:03<00:00, 28.62it/s, loss=1.08, acc=64.7]\n"
     ]
    },
    {
     "name": "stdout",
     "output_type": "stream",
     "text": [
      "Epoch 24/100 - Train Loss: 1.0817, Train Acc: 64.73% - Val Loss: 1.1734, Val Acc: 64.48%\n",
      "Saved best model to best_gcn_bilstm_model.pt\n"
     ]
    },
    {
     "name": "stderr",
     "output_type": "stream",
     "text": [
      "Epoch 25/100 [Train]: 100%|██████████| 106/106 [00:03<00:00, 28.17it/s, loss=1.08, acc=64.1]\n"
     ]
    },
    {
     "name": "stdout",
     "output_type": "stream",
     "text": [
      "Epoch 25/100 - Train Loss: 1.0775, Train Acc: 64.11% - Val Loss: 1.1945, Val Acc: 64.57%\n"
     ]
    },
    {
     "name": "stderr",
     "output_type": "stream",
     "text": [
      "Epoch 26/100 [Train]: 100%|██████████| 106/106 [00:03<00:00, 26.94it/s, loss=1.06, acc=63.7]\n"
     ]
    },
    {
     "name": "stdout",
     "output_type": "stream",
     "text": [
      "Epoch 26/100 - Train Loss: 1.0634, Train Acc: 63.69% - Val Loss: 1.1430, Val Acc: 63.68%\n",
      "Saved best model to best_gcn_bilstm_model.pt\n"
     ]
    },
    {
     "name": "stderr",
     "output_type": "stream",
     "text": [
      "Epoch 27/100 [Train]: 100%|██████████| 106/106 [00:03<00:00, 26.76it/s, loss=1.05, acc=64.8]\n"
     ]
    },
    {
     "name": "stdout",
     "output_type": "stream",
     "text": [
      "Epoch 27/100 - Train Loss: 1.0518, Train Acc: 64.82% - Val Loss: 1.1720, Val Acc: 64.48%\n"
     ]
    },
    {
     "name": "stderr",
     "output_type": "stream",
     "text": [
      "Epoch 28/100 [Train]: 100%|██████████| 106/106 [00:03<00:00, 27.54it/s, loss=1.02, acc=66.1]\n"
     ]
    },
    {
     "name": "stdout",
     "output_type": "stream",
     "text": [
      "Epoch 28/100 - Train Loss: 1.0159, Train Acc: 66.14% - Val Loss: 1.1750, Val Acc: 64.04%\n"
     ]
    },
    {
     "name": "stderr",
     "output_type": "stream",
     "text": [
      "Epoch 29/100 [Train]: 100%|██████████| 106/106 [00:03<00:00, 27.46it/s, loss=0.992, acc=67.6]\n"
     ]
    },
    {
     "name": "stdout",
     "output_type": "stream",
     "text": [
      "Epoch 29/100 - Train Loss: 0.9924, Train Acc: 67.59% - Val Loss: 1.1648, Val Acc: 66.52%\n"
     ]
    },
    {
     "name": "stderr",
     "output_type": "stream",
     "text": [
      "Epoch 30/100 [Train]: 100%|██████████| 106/106 [00:03<00:00, 27.89it/s, loss=0.981, acc=67.4]\n"
     ]
    },
    {
     "name": "stdout",
     "output_type": "stream",
     "text": [
      "Epoch 30/100 - Train Loss: 0.9810, Train Acc: 67.39% - Val Loss: 1.1160, Val Acc: 67.32%\n",
      "Saved best model to best_gcn_bilstm_model.pt\n"
     ]
    },
    {
     "name": "stderr",
     "output_type": "stream",
     "text": [
      "Epoch 31/100 [Train]: 100%|██████████| 106/106 [00:03<00:00, 27.97it/s, loss=0.965, acc=67.9]\n"
     ]
    },
    {
     "name": "stdout",
     "output_type": "stream",
     "text": [
      "Epoch 31/100 - Train Loss: 0.9653, Train Acc: 67.86% - Val Loss: 1.1381, Val Acc: 65.63%\n"
     ]
    },
    {
     "name": "stderr",
     "output_type": "stream",
     "text": [
      "Epoch 32/100 [Train]: 100%|██████████| 106/106 [00:03<00:00, 27.20it/s, loss=0.95, acc=68.2] \n"
     ]
    },
    {
     "name": "stdout",
     "output_type": "stream",
     "text": [
      "Epoch 32/100 - Train Loss: 0.9501, Train Acc: 68.15% - Val Loss: 1.1037, Val Acc: 66.70%\n",
      "Saved best model to best_gcn_bilstm_model.pt\n"
     ]
    },
    {
     "name": "stderr",
     "output_type": "stream",
     "text": [
      "Epoch 33/100 [Train]: 100%|██████████| 106/106 [00:03<00:00, 27.25it/s, loss=0.903, acc=69.5]\n"
     ]
    },
    {
     "name": "stdout",
     "output_type": "stream",
     "text": [
      "Epoch 33/100 - Train Loss: 0.9027, Train Acc: 69.51% - Val Loss: 1.1151, Val Acc: 67.05%\n"
     ]
    },
    {
     "name": "stderr",
     "output_type": "stream",
     "text": [
      "Epoch 34/100 [Train]: 100%|██████████| 106/106 [00:03<00:00, 27.69it/s, loss=0.904, acc=69.8]\n"
     ]
    },
    {
     "name": "stdout",
     "output_type": "stream",
     "text": [
      "Epoch 34/100 - Train Loss: 0.9043, Train Acc: 69.84% - Val Loss: 1.1096, Val Acc: 66.78%\n"
     ]
    },
    {
     "name": "stderr",
     "output_type": "stream",
     "text": [
      "Epoch 35/100 [Train]: 100%|██████████| 106/106 [00:03<00:00, 27.22it/s, loss=0.893, acc=69.7]\n"
     ]
    },
    {
     "name": "stdout",
     "output_type": "stream",
     "text": [
      "Epoch 35/100 - Train Loss: 0.8932, Train Acc: 69.69% - Val Loss: 1.1229, Val Acc: 66.25%\n"
     ]
    },
    {
     "name": "stderr",
     "output_type": "stream",
     "text": [
      "Epoch 36/100 [Train]: 100%|██████████| 106/106 [00:03<00:00, 27.14it/s, loss=0.908, acc=69.5]\n"
     ]
    },
    {
     "name": "stdout",
     "output_type": "stream",
     "text": [
      "Epoch 36/100 - Train Loss: 0.9080, Train Acc: 69.54% - Val Loss: 1.0642, Val Acc: 68.64%\n",
      "Saved best model to best_gcn_bilstm_model.pt\n"
     ]
    },
    {
     "name": "stderr",
     "output_type": "stream",
     "text": [
      "Epoch 37/100 [Train]: 100%|██████████| 106/106 [00:03<00:00, 26.65it/s, loss=0.851, acc=70.8]\n"
     ]
    },
    {
     "name": "stdout",
     "output_type": "stream",
     "text": [
      "Epoch 37/100 - Train Loss: 0.8512, Train Acc: 70.84% - Val Loss: 1.0972, Val Acc: 68.56%\n"
     ]
    },
    {
     "name": "stderr",
     "output_type": "stream",
     "text": [
      "Epoch 38/100 [Train]: 100%|██████████| 106/106 [00:03<00:00, 27.79it/s, loss=0.85, acc=71.2] \n"
     ]
    },
    {
     "name": "stdout",
     "output_type": "stream",
     "text": [
      "Epoch 38/100 - Train Loss: 0.8500, Train Acc: 71.23% - Val Loss: 1.0428, Val Acc: 70.68%\n",
      "Saved best model to best_gcn_bilstm_model.pt\n"
     ]
    },
    {
     "name": "stderr",
     "output_type": "stream",
     "text": [
      "Epoch 39/100 [Train]: 100%|██████████| 106/106 [00:03<00:00, 27.11it/s, loss=0.839, acc=71]  \n"
     ]
    },
    {
     "name": "stdout",
     "output_type": "stream",
     "text": [
      "Epoch 39/100 - Train Loss: 0.8392, Train Acc: 71.05% - Val Loss: 1.0875, Val Acc: 67.49%\n"
     ]
    },
    {
     "name": "stderr",
     "output_type": "stream",
     "text": [
      "Epoch 40/100 [Train]: 100%|██████████| 106/106 [00:03<00:00, 27.40it/s, loss=0.854, acc=70.3]\n"
     ]
    },
    {
     "name": "stdout",
     "output_type": "stream",
     "text": [
      "Epoch 40/100 - Train Loss: 0.8536, Train Acc: 70.25% - Val Loss: 1.1043, Val Acc: 66.34%\n"
     ]
    },
    {
     "name": "stderr",
     "output_type": "stream",
     "text": [
      "Epoch 41/100 [Train]: 100%|██████████| 106/106 [00:03<00:00, 27.36it/s, loss=0.839, acc=70.8]\n"
     ]
    },
    {
     "name": "stdout",
     "output_type": "stream",
     "text": [
      "Epoch 41/100 - Train Loss: 0.8386, Train Acc: 70.78% - Val Loss: 1.0732, Val Acc: 69.18%\n"
     ]
    },
    {
     "name": "stderr",
     "output_type": "stream",
     "text": [
      "Epoch 42/100 [Train]: 100%|██████████| 106/106 [00:04<00:00, 22.10it/s, loss=0.839, acc=71.9]\n"
     ]
    },
    {
     "name": "stdout",
     "output_type": "stream",
     "text": [
      "Epoch 42/100 - Train Loss: 0.8386, Train Acc: 71.88% - Val Loss: 1.0698, Val Acc: 68.47%\n"
     ]
    },
    {
     "name": "stderr",
     "output_type": "stream",
     "text": [
      "Epoch 43/100 [Train]: 100%|██████████| 106/106 [00:04<00:00, 24.58it/s, loss=0.808, acc=73.9]\n"
     ]
    },
    {
     "name": "stdout",
     "output_type": "stream",
     "text": [
      "Epoch 43/100 - Train Loss: 0.8076, Train Acc: 73.86% - Val Loss: 1.0390, Val Acc: 69.71%\n",
      "Saved best model to best_gcn_bilstm_model.pt\n"
     ]
    },
    {
     "name": "stderr",
     "output_type": "stream",
     "text": [
      "Epoch 44/100 [Train]: 100%|██████████| 106/106 [00:03<00:00, 27.68it/s, loss=0.775, acc=73.1]\n"
     ]
    },
    {
     "name": "stdout",
     "output_type": "stream",
     "text": [
      "Epoch 44/100 - Train Loss: 0.7751, Train Acc: 73.06% - Val Loss: 1.1167, Val Acc: 67.58%\n"
     ]
    },
    {
     "name": "stderr",
     "output_type": "stream",
     "text": [
      "Epoch 45/100 [Train]: 100%|██████████| 106/106 [00:03<00:00, 27.62it/s, loss=0.766, acc=73.3]\n"
     ]
    },
    {
     "name": "stdout",
     "output_type": "stream",
     "text": [
      "Epoch 45/100 - Train Loss: 0.7655, Train Acc: 73.32% - Val Loss: 1.1265, Val Acc: 68.29%\n"
     ]
    },
    {
     "name": "stderr",
     "output_type": "stream",
     "text": [
      "Epoch 46/100 [Train]: 100%|██████████| 106/106 [00:03<00:00, 28.05it/s, loss=0.754, acc=74.4]\n"
     ]
    },
    {
     "name": "stdout",
     "output_type": "stream",
     "text": [
      "Epoch 46/100 - Train Loss: 0.7539, Train Acc: 74.45% - Val Loss: 0.9989, Val Acc: 70.86%\n",
      "Saved best model to best_gcn_bilstm_model.pt\n"
     ]
    },
    {
     "name": "stderr",
     "output_type": "stream",
     "text": [
      "Epoch 47/100 [Train]: 100%|██████████| 106/106 [00:04<00:00, 25.63it/s, loss=0.74, acc=74]   \n"
     ]
    },
    {
     "name": "stdout",
     "output_type": "stream",
     "text": [
      "Epoch 47/100 - Train Loss: 0.7404, Train Acc: 73.97% - Val Loss: 1.0373, Val Acc: 67.85%\n"
     ]
    },
    {
     "name": "stderr",
     "output_type": "stream",
     "text": [
      "Epoch 48/100 [Train]: 100%|██████████| 106/106 [00:03<00:00, 27.64it/s, loss=0.75, acc=74.4] \n"
     ]
    },
    {
     "name": "stdout",
     "output_type": "stream",
     "text": [
      "Epoch 48/100 - Train Loss: 0.7501, Train Acc: 74.42% - Val Loss: 1.0045, Val Acc: 70.06%\n"
     ]
    },
    {
     "name": "stderr",
     "output_type": "stream",
     "text": [
      "Epoch 49/100 [Train]: 100%|██████████| 106/106 [00:03<00:00, 28.11it/s, loss=0.731, acc=75.8]\n"
     ]
    },
    {
     "name": "stdout",
     "output_type": "stream",
     "text": [
      "Epoch 49/100 - Train Loss: 0.7307, Train Acc: 75.83% - Val Loss: 1.0088, Val Acc: 71.12%\n"
     ]
    },
    {
     "name": "stderr",
     "output_type": "stream",
     "text": [
      "Epoch 50/100 [Train]: 100%|██████████| 106/106 [00:04<00:00, 26.37it/s, loss=0.696, acc=75.9]\n"
     ]
    },
    {
     "name": "stdout",
     "output_type": "stream",
     "text": [
      "Epoch 50/100 - Train Loss: 0.6961, Train Acc: 75.92% - Val Loss: 1.0327, Val Acc: 69.53%\n"
     ]
    },
    {
     "name": "stderr",
     "output_type": "stream",
     "text": [
      "Epoch 51/100 [Train]: 100%|██████████| 106/106 [00:03<00:00, 28.10it/s, loss=0.71, acc=75.9] \n"
     ]
    },
    {
     "name": "stdout",
     "output_type": "stream",
     "text": [
      "Epoch 51/100 - Train Loss: 0.7103, Train Acc: 75.92% - Val Loss: 1.0503, Val Acc: 70.50%\n"
     ]
    },
    {
     "name": "stderr",
     "output_type": "stream",
     "text": [
      "Epoch 52/100 [Train]: 100%|██████████| 106/106 [00:03<00:00, 28.06it/s, loss=0.714, acc=75]  \n"
     ]
    },
    {
     "name": "stdout",
     "output_type": "stream",
     "text": [
      "Epoch 52/100 - Train Loss: 0.7142, Train Acc: 74.98% - Val Loss: 1.0294, Val Acc: 71.30%\n"
     ]
    },
    {
     "name": "stderr",
     "output_type": "stream",
     "text": [
      "Epoch 53/100 [Train]: 100%|██████████| 106/106 [00:03<00:00, 27.52it/s, loss=0.576, acc=80] \n"
     ]
    },
    {
     "name": "stdout",
     "output_type": "stream",
     "text": [
      "Epoch 53/100 - Train Loss: 0.5762, Train Acc: 80.03% - Val Loss: 0.9211, Val Acc: 73.78%\n",
      "Saved best model to best_gcn_bilstm_model.pt\n"
     ]
    },
    {
     "name": "stderr",
     "output_type": "stream",
     "text": [
      "Epoch 54/100 [Train]: 100%|██████████| 106/106 [00:03<00:00, 27.52it/s, loss=0.535, acc=81.7]\n"
     ]
    },
    {
     "name": "stdout",
     "output_type": "stream",
     "text": [
      "Epoch 54/100 - Train Loss: 0.5348, Train Acc: 81.68% - Val Loss: 0.9625, Val Acc: 73.78%\n"
     ]
    },
    {
     "name": "stderr",
     "output_type": "stream",
     "text": [
      "Epoch 55/100 [Train]: 100%|██████████| 106/106 [00:04<00:00, 25.91it/s, loss=0.528, acc=81.8]\n"
     ]
    },
    {
     "name": "stdout",
     "output_type": "stream",
     "text": [
      "Epoch 55/100 - Train Loss: 0.5283, Train Acc: 81.77% - Val Loss: 0.9218, Val Acc: 73.69%\n"
     ]
    },
    {
     "name": "stderr",
     "output_type": "stream",
     "text": [
      "Epoch 56/100 [Train]: 100%|██████████| 106/106 [00:03<00:00, 27.32it/s, loss=0.526, acc=82]  \n"
     ]
    },
    {
     "name": "stdout",
     "output_type": "stream",
     "text": [
      "Epoch 56/100 - Train Loss: 0.5255, Train Acc: 81.98% - Val Loss: 0.9268, Val Acc: 74.49%\n"
     ]
    },
    {
     "name": "stderr",
     "output_type": "stream",
     "text": [
      "Epoch 57/100 [Train]: 100%|██████████| 106/106 [00:03<00:00, 27.98it/s, loss=0.494, acc=83.2]\n"
     ]
    },
    {
     "name": "stdout",
     "output_type": "stream",
     "text": [
      "Epoch 57/100 - Train Loss: 0.4940, Train Acc: 83.19% - Val Loss: 0.9834, Val Acc: 73.96%\n"
     ]
    },
    {
     "name": "stderr",
     "output_type": "stream",
     "text": [
      "Epoch 58/100 [Train]: 100%|██████████| 106/106 [00:04<00:00, 25.08it/s, loss=0.517, acc=81.7]\n"
     ]
    },
    {
     "name": "stdout",
     "output_type": "stream",
     "text": [
      "Epoch 58/100 - Train Loss: 0.5171, Train Acc: 81.74% - Val Loss: 0.9688, Val Acc: 74.14%\n"
     ]
    },
    {
     "name": "stderr",
     "output_type": "stream",
     "text": [
      "Epoch 59/100 [Train]: 100%|██████████| 106/106 [00:03<00:00, 26.57it/s, loss=0.523, acc=81.7]\n"
     ]
    },
    {
     "name": "stdout",
     "output_type": "stream",
     "text": [
      "Epoch 59/100 - Train Loss: 0.5233, Train Acc: 81.65% - Val Loss: 0.9537, Val Acc: 73.78%\n"
     ]
    },
    {
     "name": "stderr",
     "output_type": "stream",
     "text": [
      "Epoch 60/100 [Train]: 100%|██████████| 106/106 [00:03<00:00, 26.80it/s, loss=0.451, acc=84.1]\n"
     ]
    },
    {
     "name": "stdout",
     "output_type": "stream",
     "text": [
      "Epoch 60/100 - Train Loss: 0.4505, Train Acc: 84.14% - Val Loss: 0.8974, Val Acc: 75.47%\n",
      "Saved best model to best_gcn_bilstm_model.pt\n"
     ]
    },
    {
     "name": "stderr",
     "output_type": "stream",
     "text": [
      "Epoch 61/100 [Train]: 100%|██████████| 106/106 [00:04<00:00, 21.42it/s, loss=0.425, acc=85.3]\n"
     ]
    },
    {
     "name": "stdout",
     "output_type": "stream",
     "text": [
      "Epoch 61/100 - Train Loss: 0.4250, Train Acc: 85.32% - Val Loss: 0.9072, Val Acc: 75.91%\n"
     ]
    },
    {
     "name": "stderr",
     "output_type": "stream",
     "text": [
      "Epoch 62/100 [Train]: 100%|██████████| 106/106 [00:05<00:00, 21.06it/s, loss=0.422, acc=85]  \n"
     ]
    },
    {
     "name": "stdout",
     "output_type": "stream",
     "text": [
      "Epoch 62/100 - Train Loss: 0.4223, Train Acc: 84.96% - Val Loss: 0.9054, Val Acc: 76.26%\n"
     ]
    },
    {
     "name": "stderr",
     "output_type": "stream",
     "text": [
      "Epoch 63/100 [Train]: 100%|██████████| 106/106 [00:04<00:00, 23.24it/s, loss=0.398, acc=85.7]\n"
     ]
    },
    {
     "name": "stdout",
     "output_type": "stream",
     "text": [
      "Epoch 63/100 - Train Loss: 0.3984, Train Acc: 85.67% - Val Loss: 0.9141, Val Acc: 74.84%\n"
     ]
    },
    {
     "name": "stderr",
     "output_type": "stream",
     "text": [
      "Epoch 64/100 [Train]: 100%|██████████| 106/106 [00:04<00:00, 23.50it/s, loss=0.397, acc=86]  \n"
     ]
    },
    {
     "name": "stdout",
     "output_type": "stream",
     "text": [
      "Epoch 64/100 - Train Loss: 0.3975, Train Acc: 86.00% - Val Loss: 0.9233, Val Acc: 75.29%\n"
     ]
    },
    {
     "name": "stderr",
     "output_type": "stream",
     "text": [
      "Epoch 65/100 [Train]: 100%|██████████| 106/106 [00:04<00:00, 23.69it/s, loss=0.399, acc=85.6]\n"
     ]
    },
    {
     "name": "stdout",
     "output_type": "stream",
     "text": [
      "Epoch 65/100 - Train Loss: 0.3994, Train Acc: 85.55% - Val Loss: 0.9193, Val Acc: 75.47%\n"
     ]
    },
    {
     "name": "stderr",
     "output_type": "stream",
     "text": [
      "Epoch 66/100 [Train]: 100%|██████████| 106/106 [00:04<00:00, 23.41it/s, loss=0.375, acc=87.6]\n"
     ]
    },
    {
     "name": "stdout",
     "output_type": "stream",
     "text": [
      "Epoch 66/100 - Train Loss: 0.3746, Train Acc: 87.59% - Val Loss: 0.9294, Val Acc: 75.20%\n"
     ]
    },
    {
     "name": "stderr",
     "output_type": "stream",
     "text": [
      "Epoch 67/100 [Train]: 100%|██████████| 106/106 [00:04<00:00, 22.96it/s, loss=0.365, acc=87.3]\n"
     ]
    },
    {
     "name": "stdout",
     "output_type": "stream",
     "text": [
      "Epoch 67/100 - Train Loss: 0.3646, Train Acc: 87.33% - Val Loss: 0.9115, Val Acc: 76.26%\n"
     ]
    },
    {
     "name": "stderr",
     "output_type": "stream",
     "text": [
      "Epoch 68/100 [Train]: 100%|██████████| 106/106 [00:04<00:00, 23.35it/s, loss=0.362, acc=87.3]\n"
     ]
    },
    {
     "name": "stdout",
     "output_type": "stream",
     "text": [
      "Epoch 68/100 - Train Loss: 0.3622, Train Acc: 87.27% - Val Loss: 0.8990, Val Acc: 76.26%\n"
     ]
    },
    {
     "name": "stderr",
     "output_type": "stream",
     "text": [
      "Epoch 69/100 [Train]: 100%|██████████| 106/106 [00:04<00:00, 23.49it/s, loss=0.349, acc=87.6]\n"
     ]
    },
    {
     "name": "stdout",
     "output_type": "stream",
     "text": [
      "Epoch 69/100 - Train Loss: 0.3493, Train Acc: 87.59% - Val Loss: 0.9075, Val Acc: 76.17%\n"
     ]
    },
    {
     "name": "stderr",
     "output_type": "stream",
     "text": [
      "Epoch 70/100 [Train]: 100%|██████████| 106/106 [00:04<00:00, 23.50it/s, loss=0.348, acc=87.4]\n"
     ]
    },
    {
     "name": "stdout",
     "output_type": "stream",
     "text": [
      "Epoch 70/100 - Train Loss: 0.3484, Train Acc: 87.44% - Val Loss: 0.9114, Val Acc: 76.09%\n"
     ]
    },
    {
     "name": "stderr",
     "output_type": "stream",
     "text": [
      "Epoch 71/100 [Train]: 100%|██████████| 106/106 [00:04<00:00, 22.24it/s, loss=0.328, acc=89.2]\n"
     ]
    },
    {
     "name": "stdout",
     "output_type": "stream",
     "text": [
      "Epoch 71/100 - Train Loss: 0.3277, Train Acc: 89.19% - Val Loss: 0.9436, Val Acc: 76.09%\n"
     ]
    },
    {
     "name": "stderr",
     "output_type": "stream",
     "text": [
      "Epoch 72/100 [Train]: 100%|██████████| 106/106 [00:04<00:00, 22.23it/s, loss=0.35, acc=87.4] \n"
     ]
    },
    {
     "name": "stdout",
     "output_type": "stream",
     "text": [
      "Epoch 72/100 - Train Loss: 0.3502, Train Acc: 87.36% - Val Loss: 0.9318, Val Acc: 75.20%\n"
     ]
    },
    {
     "name": "stderr",
     "output_type": "stream",
     "text": [
      "Epoch 73/100 [Train]: 100%|██████████| 106/106 [00:04<00:00, 22.40it/s, loss=0.321, acc=88.4]\n"
     ]
    },
    {
     "name": "stdout",
     "output_type": "stream",
     "text": [
      "Epoch 73/100 - Train Loss: 0.3212, Train Acc: 88.36% - Val Loss: 0.9162, Val Acc: 76.17%\n"
     ]
    },
    {
     "name": "stderr",
     "output_type": "stream",
     "text": [
      "Epoch 74/100 [Train]: 100%|██████████| 106/106 [00:04<00:00, 22.33it/s, loss=0.321, acc=89.4]\n"
     ]
    },
    {
     "name": "stdout",
     "output_type": "stream",
     "text": [
      "Epoch 74/100 - Train Loss: 0.3209, Train Acc: 89.36% - Val Loss: 0.9140, Val Acc: 76.88%\n"
     ]
    },
    {
     "name": "stderr",
     "output_type": "stream",
     "text": [
      "Epoch 75/100 [Train]: 100%|██████████| 106/106 [00:04<00:00, 22.28it/s, loss=0.317, acc=88.7]\n"
     ]
    },
    {
     "name": "stdout",
     "output_type": "stream",
     "text": [
      "Epoch 75/100 - Train Loss: 0.3173, Train Acc: 88.71% - Val Loss: 0.9203, Val Acc: 75.73%\n",
      "Early stopping triggered after 75 epochs\n",
      "Test Accuracy: 77.59%\n"
     ]
    },
    {
     "data": {
      "image/png": "[encoded data removed]",
      "text/plain": [
       "<Figure size 1200x500 with 2 Axes>"
      ]
     },
     "metadata": {},
     "output_type": "display_data"
    },
    {
     "name": "stdout",
     "output_type": "stream",
     "text": [
      "\n",
      "Classification Report:\n",
      "[ 0  1  2  3  4  5  6  7  8  9 10 11 12 13 14 15 16 17 18 19 20 21 22 23\n",
      " 24 25 26 27 28 29 30 31 32 33 34 35 36 37 38 39 40 41 42 43 44 45 46 47\n",
      " 48 49 50]\n",
      "               precision    recall  f1-score   support\n",
      "\n",
      "            A       0.65      0.65      0.65        20\n",
      "            B       0.67      0.52      0.59        23\n",
      "            C       0.61      0.70      0.66        27\n",
      "            D       0.54      0.33      0.41        21\n",
      "            E       0.70      0.88      0.78        26\n",
      "            F       0.59      0.79      0.68        24\n",
      "            G       0.78      0.86      0.82        29\n",
      "            H       0.77      0.68      0.72        25\n",
      "            I       0.82      0.90      0.86        30\n",
      "            J       0.86      0.83      0.85        30\n",
      "            K       0.73      0.62      0.67        26\n",
      "            L       0.70      0.85      0.77        27\n",
      "            M       0.52      0.42      0.46        31\n",
      "            N       0.53      0.59      0.56        32\n",
      "            O       0.89      0.81      0.85        31\n",
      "            P       0.59      0.52      0.55        25\n",
      "            Q       0.75      0.58      0.65        31\n",
      "            R       0.73      0.62      0.67        26\n",
      "            S       0.69      0.80      0.74        30\n",
      "            T       0.62      0.50      0.55        26\n",
      "            U       0.83      0.86      0.84        28\n",
      "            V       0.93      1.00      0.96        26\n",
      "            W       0.78      0.78      0.78        27\n",
      "            X       0.59      0.59      0.59        22\n",
      "            Y       0.87      0.50      0.63        26\n",
      "            Z       0.76      0.93      0.84        28\n",
      "         baca       0.93      0.81      0.87        16\n",
      "        bantu       0.85      0.79      0.81        14\n",
      "        bapak       1.00      1.00      1.00        15\n",
      "buangairkecil       0.88      0.88      0.88         8\n",
      "         buat       0.93      0.88      0.90        16\n",
      "         halo       0.89      0.85      0.87        20\n",
      "          ibu       0.75      1.00      0.86         6\n",
      "         kamu       1.00      0.82      0.90        22\n",
      "         maaf       0.91      0.95      0.93        21\n",
      "        makan       0.74      0.82      0.78        17\n",
      "          mau       0.95      0.95      0.95        20\n",
      "         nama       0.88      0.88      0.88        25\n",
      "         pagi       0.91      0.83      0.87        24\n",
      "        paham       0.96      1.00      0.98        25\n",
      "        sakit       1.00      0.80      0.89         5\n",
      "    sama-sama       0.84      0.93      0.88        28\n",
      "         saya       0.71      0.92      0.80        13\n",
      "      selamat       0.86      0.90      0.88        21\n",
      "        siapa       0.80      0.75      0.77        16\n",
      "        tanya       0.95      0.90      0.92        20\n",
      "       tempat       0.89      1.00      0.94         8\n",
      " terima-kasih       0.72      0.90      0.80        20\n",
      "    terlambat       0.89      1.00      0.94        17\n",
      "        tidak       0.78      0.82      0.80        17\n",
      "       tolong       0.85      0.94      0.89        18\n",
      "\n",
      "     accuracy                           0.78      1129\n",
      "    macro avg       0.79      0.79      0.79      1129\n",
      " weighted avg       0.78      0.78      0.77      1129\n",
      "\n"
     ]
    },
    {
     "data": {
      "image/png": "[encoded data removed]",
      "text/plain": [
       "<Figure size 1200x1000 with 2 Axes>"
      ]
     },
     "metadata": {},
     "output_type": "display_data"
    }
   ],
   "source": [
    "main()"
   ]
  }
 ],
 "metadata": {
  "kernelspec": {
   "display_name": "ASLR",
   "language": "python",
   "name": "python3"
  },
  "language_info": {
   "codemirror_mode": {
    "name": "ipython",
    "version": 3
   },
   "file_extension": ".py",
   "mimetype": "text/x-python",
   "name": "python",
   "nbconvert_exporter": "python",
   "pygments_lexer": "ipython3",
   "version": "3.12.10"
  }
 },
 "nbformat": 4,
 "nbformat_minor": 5
}
