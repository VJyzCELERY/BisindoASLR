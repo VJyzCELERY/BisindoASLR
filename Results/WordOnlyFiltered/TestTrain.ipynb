{
 "cells": [
  {
   "cell_type": "code",
   "execution_count": 1,
   "id": "e9a8f357",
   "metadata": {},
   "outputs": [],
   "source": [
    "import torch\n",
    "import torch.nn as nn\n",
    "import torch.nn.functional as F\n",
    "import numpy as np\n",
    "from torch.utils.data import Dataset, DataLoader\n",
    "from sklearn.preprocessing import LabelEncoder\n",
    "from sklearn.model_selection import train_test_split\n",
    "import os\n",
    "from sklearn.metrics import classification_report, confusion_matrix\n",
    "import seaborn as sns\n",
    "import json\n",
    "import matplotlib.pyplot as plt\n",
    "import gc\n",
    "from tqdm import tqdm\n",
    "\n",
    "# Constants\n",
    "NUM_POSE_LANDMARKS = 19   \n",
    "NUM_HAND_LANDMARKS = 21\n",
    "NUM_NODES = NUM_POSE_LANDMARKS + NUM_HAND_LANDMARKS*2  # Total nodes in the graph\n",
    "FEATURE_DIM = 3  # x, y coordinates + visibility\n",
    "\n",
    "class GCNLayer(nn.Module):\n",
    "    def __init__(self, in_features, out_features,dropout=0.5):\n",
    "        super(GCNLayer, self).__init__()\n",
    "        # self.linear = nn.Linear(in_features, out_features,bias=True)\n",
    "        self.conv = nn.Conv1d(in_features, out_features, kernel_size=1, bias=True)\n",
    "        self.dropout = nn.Dropout(dropout)\n",
    "\n",
    "    def forward(self, x, adj):\n",
    "        # x: (batch_size * seq_len, num_nodes, in_features)\n",
    "        # adj: (num_nodes, num_nodes) - shared across all samples\n",
    "        \n",
    "        # Ensure adj is on the same device as x\n",
    "        if adj.device != x.device:\n",
    "            adj = adj.to(x.device)\n",
    "            \n",
    "        # Expand adj to match batch dimension\n",
    "        batch_size_seq = x.size(0)\n",
    "        adj_expanded = adj.unsqueeze(0).expand(batch_size_seq, -1, -1)\n",
    "        \n",
    "        # Graph convolution: first aggregate neighborhood features\n",
    "        x = torch.bmm(adj_expanded, x)  # (batch_size * seq_len, num_nodes, in_features)\n",
    "        \n",
    "        # For Conv1d: input needs to be (batch, channels, length)\n",
    "        # So we permute from (batch, nodes, features) to (batch, features, nodes)\n",
    "        x = x.permute(0, 2, 1)  # -> (batch_size * seq_len, in_features, num_nodes)\n",
    "        \n",
    "        # Apply convolution\n",
    "        x = self.conv(x)  # (batch_size * seq_len, out_features, num_nodes)\n",
    "        \n",
    "        # Permute back to original format\n",
    "        x = x.permute(0, 2, 1)  # -> (batch_size * seq_len, num_nodes, out_features)\n",
    "        \n",
    "        x = F.gelu(x)\n",
    "        x = self.dropout(x)\n",
    "        return x\n",
    "\n",
    "class GCNBiLSTM(nn.Module):\n",
    "    def __init__(self, num_nodes=NUM_NODES, in_features=FEATURE_DIM, \n",
    "                 gcn_hidden=64, lstm_hidden=128, num_classes=10, \n",
    "                 num_gcn_layers=2, dropout=0.5, label_map=None):\n",
    "        super(GCNBiLSTM, self).__init__()\n",
    "        \n",
    "        # Create multiple GCN layers\n",
    "        self.gcn_layers = nn.ModuleList()\n",
    "        self.gcn_layers.append(GCNLayer(in_features, gcn_hidden,dropout))\n",
    "        \n",
    "        for _ in range(num_gcn_layers - 1):\n",
    "            self.gcn_layers.append(GCNLayer(gcn_hidden, gcn_hidden,dropout))\n",
    "        \n",
    "        # Bidirectional LSTM layer\n",
    "        self.lstm = nn.LSTM(\n",
    "            input_size=num_nodes * gcn_hidden, \n",
    "            hidden_size=lstm_hidden, \n",
    "            num_layers=2,\n",
    "            batch_first=True, \n",
    "            bidirectional=True,\n",
    "            dropout=dropout if num_gcn_layers > 1 else 0\n",
    "        )\n",
    "        \n",
    "        # Attention mechanism\n",
    "        self.attention = nn.Sequential(\n",
    "            nn.Linear(lstm_hidden * 2, 64),\n",
    "            nn.Tanh(),\n",
    "            nn.Linear(64, 1)\n",
    "        )\n",
    "        \n",
    "        # Output classification layers\n",
    "        self.classifier = nn.Sequential(\n",
    "            nn.Linear(lstm_hidden * 2, lstm_hidden),\n",
    "            nn.ReLU(),\n",
    "            nn.Dropout(dropout),\n",
    "            nn.Linear(lstm_hidden, num_classes)\n",
    "        )\n",
    "        \n",
    "        self.dropout = nn.Dropout(dropout)\n",
    "        self.label_map = label_map\n",
    "        self.num_nodes = num_nodes\n",
    "        self.gcn_hidden = gcn_hidden\n",
    "\n",
    "    def forward(self, x, adj):\n",
    "        # x shape: (batch_size, seq_len, num_nodes * in_features)\n",
    "        # Reshape to (batch_size, seq_len, num_nodes, in_features)\n",
    "        batch_size, seq_len, _ = x.size()\n",
    "        x = x.view(batch_size, seq_len, self.num_nodes, -1)\n",
    "        \n",
    "        # Process each time step through GCN\n",
    "        gcn_outputs = []\n",
    "        for t in range(seq_len):\n",
    "            # Get current time step data\n",
    "            curr_x = x[:, t, :, :]  # (batch_size, num_nodes, in_features)\n",
    "            \n",
    "            # Process through GCN layers\n",
    "            for gcn_layer in self.gcn_layers:\n",
    "                curr_x = gcn_layer(curr_x, adj)\n",
    "                curr_x = self.dropout(curr_x)\n",
    "            \n",
    "            # Flatten node features\n",
    "            # curr_x = curr_x.view(batch_size, -1)  # (batch_size, num_nodes * gcn_hidden)\n",
    "            curr_x = curr_x.contiguous().view(batch_size, -1)\n",
    "            gcn_outputs.append(curr_x)\n",
    "        \n",
    "        # Stack outputs to (batch_size, seq_len, num_nodes * gcn_hidden)\n",
    "        gcn_out = torch.stack(gcn_outputs, dim=1)\n",
    "        \n",
    "        # Process through BiLSTM\n",
    "        lstm_out, _ = self.lstm(gcn_out)  # (batch_size, seq_len, lstm_hidden * 2)\n",
    "        \n",
    "        # Apply attention mechanism\n",
    "        attn_weights = self.attention(lstm_out).squeeze(-1)  # (batch_size, seq_len)\n",
    "        attn_weights = F.softmax(attn_weights, dim=1).unsqueeze(-1)  # (batch_size, seq_len, 1)\n",
    "        \n",
    "        # Weighted sum of LSTM outputs\n",
    "        context = torch.sum(lstm_out * attn_weights, dim=1)  # (batch_size, lstm_hidden * 2)\n",
    "        \n",
    "        # Final classification\n",
    "        output = self.classifier(context)\n",
    "        \n",
    "        return output\n",
    "    \n",
    "    def predict_label(self, x, adj):\n",
    "        self.eval() \n",
    "        with torch.no_grad():\n",
    "            logits = self.forward(x, adj)  # Forward pass\n",
    "            pred_classes = torch.argmax(logits, dim=1)  # Get the predicted class (index)\n",
    "            \n",
    "            if self.label_map is not None:\n",
    "                pred_labels = [self.label_map[int(idx)] for idx in pred_classes.cpu().numpy()]\n",
    "                return pred_labels\n",
    "            else:\n",
    "                return pred_classes\n",
    "\n",
    "\n",
    "\n",
    "class GraphSequenceDataset(Dataset):\n",
    "    def __init__(self, sequences, labels):\n",
    "        self.sequences = torch.tensor(sequences, dtype=torch.float32)\n",
    "        self.labels = torch.tensor(labels, dtype=torch.long)\n",
    "        \n",
    "    def __len__(self):\n",
    "        return len(self.sequences)\n",
    "    \n",
    "    def __getitem__(self, idx):\n",
    "        return self.sequences[idx], self.labels[idx]\n",
    "\n",
    "\n",
    "def parse_frame(frame,):\n",
    "    keypoints = []\n",
    "    for part in ['pose', 'left_hand', 'right_hand']:\n",
    "        for landmark in frame.get(part, []):\n",
    "            keypoints.extend([landmark['x'], landmark['y'], landmark['visibility']])\n",
    "    return keypoints\n",
    "\n",
    "\n",
    "def load_and_preprocess_data(data_dir, sequence_length=15):\n",
    "    \"\"\"\n",
    "    Load and preprocess the JSON files into sequences.\n",
    "    \n",
    "    Args:\n",
    "        data_dir: Directory containing the data\n",
    "        sequence_length: Number of frames in each sequence\n",
    "        \n",
    "    Returns:\n",
    "        sequences: array of shape (num_sequences, sequence_length, num_nodes * features)\n",
    "        sequence_labels: array of class labels\n",
    "        label_encoder: fitted LabelEncoder\n",
    "    \"\"\"\n",
    "    frame_data = []\n",
    "    raw_labels = []\n",
    "    \n",
    "    # Step 1: Collect all labels\n",
    "    for root, dirs, files in os.walk(data_dir):\n",
    "        for file in files:\n",
    "            if file.endswith(\".json\"):\n",
    "                label = os.path.basename(os.path.dirname(os.path.join(root, file)))\n",
    "                raw_labels.append(label)\n",
    "    \n",
    "    # Step 2: Fit label encoder\n",
    "    encoder = LabelEncoder()\n",
    "    encoder.fit(raw_labels)\n",
    "    label_map = {label: int(encoder.transform([label])[0]) for label in set(raw_labels)}\n",
    "    \n",
    "    sequences = []\n",
    "    sequence_labels = []\n",
    "\n",
    "    # Step 3: Parse frames and assign encoded labels\n",
    "    for root, dirs, files in os.walk(data_dir):\n",
    "        for file in files:\n",
    "            if file.endswith(\".json\"):\n",
    "                label = os.path.basename(os.path.dirname(os.path.join(root, file)))\n",
    "                encoded_label = label_map[label]\n",
    "                with open(os.path.join(root, file), 'r') as f:\n",
    "                    frames = json.load(f)\n",
    "                    features=[]\n",
    "                    for frame in frames:\n",
    "                        features.append(parse_frame(frame))\n",
    "                        # frame_data.append([np.array(features), encoded_label])\n",
    "                    sequences.append(np.stack(features))\n",
    "                    sequence_labels.append(encoded_label)\n",
    "    idx_to_label = {v: k for k, v in label_map.items()}\n",
    "    label_map = idx_to_label\n",
    "    del idx_to_label\n",
    "    gc.collect()\n",
    "    \n",
    "    return np.array(sequences), np.array(sequence_labels), label_map\n",
    "\n",
    "\n",
    "def create_adjacency_matrix():\n",
    "    \"\"\"Create the adjacency matrix for the graph.\"\"\"\n",
    "\n",
    "    pose_connections = [\n",
    "        # Mouth\n",
    "        (9,10),\n",
    "        # Left Eyes\n",
    "        (1,2),(2,3),(3,7),\n",
    "        # Right Eyes\n",
    "        (4,5),(5,6),(6,8),\n",
    "        # Nose\n",
    "        (0,4),(0,1),\n",
    "        # Shoulders\n",
    "        (11, 12),\n",
    "        # Connect shoulders to hip\n",
    "        (11, 17), (12, 18),\n",
    "        # Connect hip points\n",
    "        (17, 18),\n",
    "        # Left arm\n",
    "        (11, 13), (13, 15),\n",
    "        # Right arm\n",
    "        (12, 14), (14, 16)\n",
    "    ]\n",
    "\n",
    "    hand_connections = [\n",
    "        # Thumb\n",
    "        (0, 1), (1, 2), (2, 3), (3, 4),\n",
    "        # Index finger\n",
    "        (0, 5), (5, 6), (6, 7), (7, 8),\n",
    "        # Middle finger\n",
    "        (0, 9), (9, 10), (10, 11), (11, 12),\n",
    "        # Ring finger\n",
    "        (0, 13), (13, 14), (14, 15), (15, 16),\n",
    "        # Pinky\n",
    "        (0, 17), (17, 18), (18, 19), (19, 20),\n",
    "        # Palm connections\n",
    "        (5, 9), (9, 13), (13, 17)\n",
    "    ]\n",
    "    \n",
    "    def create_adj_matrix(num_nodes, connections):\n",
    "        adj_matrix = np.zeros((num_nodes, num_nodes))\n",
    "        for i, j in connections:\n",
    "            adj_matrix[i, j] = 1\n",
    "            adj_matrix[j, i] = 1\n",
    "        # Add self-loops\n",
    "        for i in range(num_nodes):\n",
    "            adj_matrix[i, i] = 1\n",
    "        return adj_matrix\n",
    "\n",
    "    pose_adj_matrix = create_adj_matrix(NUM_POSE_LANDMARKS, pose_connections)\n",
    "    left_hand_adj_matrix = create_adj_matrix(NUM_HAND_LANDMARKS, hand_connections)\n",
    "    right_hand_adj_matrix = create_adj_matrix(NUM_HAND_LANDMARKS, hand_connections)\n",
    "\n",
    "    # Calculate the total number of nodes\n",
    "    total_nodes = NUM_POSE_LANDMARKS + NUM_HAND_LANDMARKS + NUM_HAND_LANDMARKS\n",
    "\n",
    "    # Initialize a global adjacency matrix\n",
    "    global_adj_matrix = np.zeros((total_nodes, total_nodes))\n",
    "    \n",
    "    # start_pose = NUM_FACE_LANDMARKS\n",
    "    start_pose=0\n",
    "    end_pose = start_pose + NUM_POSE_LANDMARKS\n",
    "    global_adj_matrix[start_pose:end_pose, start_pose:end_pose] = pose_adj_matrix\n",
    "    \n",
    "    start_lh = end_pose\n",
    "    end_lh = start_lh + NUM_HAND_LANDMARKS\n",
    "    global_adj_matrix[start_lh:end_lh, start_lh:end_lh] = left_hand_adj_matrix\n",
    "    \n",
    "    start_rh = end_lh\n",
    "    end_rh = start_rh + NUM_HAND_LANDMARKS\n",
    "    global_adj_matrix[start_rh:end_rh, start_rh:end_rh] = right_hand_adj_matrix\n",
    "    \n",
    "    # Connect pose to hands\n",
    "    pose_hand_connections = [\n",
    "        (start_pose + 15, start_lh),  # Left hand wrist to left hand base\n",
    "        (start_pose + 16, start_rh),  # Right hand wrist to right hand base\n",
    "    ]\n",
    "    for i, j in pose_hand_connections:\n",
    "        global_adj_matrix[i, j] = 1\n",
    "        global_adj_matrix[j, i] = 1\n",
    "\n",
    "    # Normalize adjacency matrix (D^-0.5 * A * D^-0.5)\n",
    "    # Add identity matrix to include self-connections\n",
    "    adj_matrix = global_adj_matrix + np.eye(total_nodes)\n",
    "    \n",
    "    # Calculate degree matrix\n",
    "    degree_matrix = np.diag(np.sum(adj_matrix, axis=1))\n",
    "    \n",
    "    # D^-0.5\n",
    "    deg_inv_sqrt = np.linalg.inv(np.sqrt(degree_matrix))\n",
    "    \n",
    "    # Normalized adjacency matrix\n",
    "    normalized_adj_matrix = deg_inv_sqrt @ adj_matrix @ deg_inv_sqrt\n",
    "\n",
    "    return torch.FloatTensor(normalized_adj_matrix)\n",
    "\n",
    "\n",
    "def train_model(model, train_loader, val_loader, adj_matrix, num_epochs=50, lr=0.001, \n",
    "               weight_decay=1e-5, patience=10, model_save_path='best_model.pt'):\n",
    "    \"\"\"\n",
    "    Train the GCNBiLSTM model\n",
    "    \n",
    "    Args:\n",
    "        model: GCNBiLSTM model\n",
    "        train_loader: DataLoader for training data\n",
    "        val_loader: DataLoader for validation data\n",
    "        adj_matrix: Normalized adjacency matrix\n",
    "        num_epochs: Number of training epochs\n",
    "        lr: Learning rate\n",
    "        weight_decay: Weight decay factor\n",
    "        patience: Early stopping patience\n",
    "        model_save_path: Path to save best model\n",
    "        \n",
    "    Returns:\n",
    "        model: Trained model\n",
    "        train_losses: List of training losses\n",
    "        val_losses: List of validation losses\n",
    "        train_accs: List of training accuracies\n",
    "        val_accs: List of validation accuracies\n",
    "    \"\"\"\n",
    "    device = torch.device('cuda' if torch.cuda.is_available() else 'cpu')\n",
    "    print(f\"Using device: {device}\")\n",
    "    \n",
    "    model = model.to(device)\n",
    "    adj_matrix = adj_matrix.to(device)\n",
    "    \n",
    "    criterion = nn.CrossEntropyLoss()\n",
    "    optimizer = torch.optim.Adam(model.parameters(), lr=lr, weight_decay=weight_decay)\n",
    "\n",
    "    scheduler = torch.optim.lr_scheduler.ReduceLROnPlateau(optimizer, 'min', patience=5, factor=0.5)\n",
    "\n",
    "    \n",
    "    train_losses = []\n",
    "    val_losses = []\n",
    "    train_accs = []\n",
    "    val_accs = []\n",
    "    \n",
    "    best_val_loss = float('inf')\n",
    "    early_stop_counter = 0\n",
    "    \n",
    "    for epoch in range(num_epochs):\n",
    "        # Training phase\n",
    "        model.train()\n",
    "        train_loss = 0.0\n",
    "        correct = 0\n",
    "        total = 0\n",
    "        \n",
    "        progress_bar = tqdm(train_loader, desc=f\"Epoch {epoch+1}/{num_epochs} [Train]\")\n",
    "        for batch_idx, (inputs, targets) in enumerate(progress_bar):\n",
    "            inputs, targets = inputs.to(device), targets.to(device)\n",
    "            \n",
    "            optimizer.zero_grad()\n",
    "            outputs = model(inputs, adj_matrix)\n",
    "            \n",
    "            loss = criterion(outputs, targets)\n",
    "            loss.backward()\n",
    "            \n",
    "            # Optional: gradient clipping\n",
    "            torch.nn.utils.clip_grad_norm_(model.parameters(), max_norm=5.0)\n",
    "            \n",
    "            optimizer.step()\n",
    "            \n",
    "            train_loss += loss.item()\n",
    "            _, predicted = outputs.max(1)\n",
    "            total += targets.size(0)\n",
    "            correct += predicted.eq(targets).sum().item()\n",
    "            \n",
    "            progress_bar.set_postfix({\n",
    "                'loss': train_loss/(batch_idx+1), \n",
    "                'acc': 100.*correct/total\n",
    "            })\n",
    "        \n",
    "        train_loss = train_loss / len(train_loader)\n",
    "        train_acc = 100. * correct / total\n",
    "        train_losses.append(train_loss)\n",
    "        train_accs.append(train_acc)\n",
    "        \n",
    "        # Validation phase\n",
    "        model.eval()\n",
    "        val_loss = 0.0\n",
    "        correct = 0\n",
    "        total = 0\n",
    "        \n",
    "        with torch.no_grad():\n",
    "            for batch_idx, (inputs, targets) in enumerate(val_loader):\n",
    "                inputs, targets = inputs.to(device), targets.to(device)\n",
    "                outputs = model(inputs, adj_matrix)\n",
    "                \n",
    "                loss = criterion(outputs, targets)\n",
    "                val_loss += loss.item()\n",
    "                \n",
    "                _, predicted = outputs.max(1)\n",
    "                total += targets.size(0)\n",
    "                correct += predicted.eq(targets).sum().item()\n",
    "        \n",
    "        val_loss = val_loss / len(val_loader)\n",
    "        val_acc = 100. * correct / total\n",
    "        val_losses.append(val_loss)\n",
    "        val_accs.append(val_acc)\n",
    "        \n",
    "        # Update learning rate\n",
    "        scheduler.step(val_loss)\n",
    "        \n",
    "        print(f\"Epoch {epoch+1}/{num_epochs} - \"\n",
    "              f\"Train Loss: {train_loss:.4f}, Train Acc: {train_acc:.2f}% - \"\n",
    "              f\"Val Loss: {val_loss:.4f}, Val Acc: {val_acc:.2f}%\")\n",
    "        \n",
    "        # Save best model\n",
    "        if val_loss < best_val_loss:\n",
    "            best_val_loss = val_loss\n",
    "            # Save only the model state dict\n",
    "            torch.save({'model_state_dict':model.state_dict(),'label_map':model.label_map}, model_save_path)\n",
    "            \n",
    "            \n",
    "            early_stop_counter = 0\n",
    "            print(f\"Saved best model to {model_save_path}\")\n",
    "        else:\n",
    "            early_stop_counter += 1\n",
    "            \n",
    "        # Early stopping\n",
    "        if early_stop_counter >= patience:\n",
    "            print(f\"Early stopping triggered after {epoch+1} epochs\")\n",
    "            break\n",
    "    \n",
    "    # Load best model\n",
    "    checkpoint = torch.load(model_save_path)\n",
    "    model.load_state_dict(checkpoint['model_state_dict'])\n",
    "    model.label_map = checkpoint['label_map']\n",
    "    return model, train_losses, val_losses, train_accs, val_accs\n",
    "\n",
    "\n",
    "def evaluate_model(model, test_loader, adj_matrix):\n",
    "    \"\"\"\n",
    "    Evaluate the model on test data\n",
    "    \n",
    "    Args:\n",
    "        model: Trained GCNBiLSTM model\n",
    "        test_loader: DataLoader for test data\n",
    "        adj_matrix: Normalized adjacency matrix\n",
    "        \n",
    "    Returns:\n",
    "        test_acc: Test accuracy\n",
    "        predictions: Predicted labels\n",
    "        true_labels: True labels\n",
    "    \"\"\"\n",
    "    device = torch.device('cuda' if torch.cuda.is_available() else 'cpu')\n",
    "    model = model.to(device)\n",
    "    adj_matrix = adj_matrix.to(device)\n",
    "    \n",
    "    model.eval()\n",
    "    correct = 0\n",
    "    total = 0\n",
    "    \n",
    "    all_preds = []\n",
    "    all_targets = []\n",
    "    \n",
    "    with torch.no_grad():\n",
    "        for inputs, targets in test_loader:\n",
    "            inputs, targets = inputs.to(device), targets.to(device)\n",
    "            outputs = model(inputs, adj_matrix)\n",
    "            \n",
    "            _, predicted = outputs.max(1)\n",
    "            total += targets.size(0)\n",
    "            correct += predicted.eq(targets).sum().item()\n",
    "            \n",
    "            all_preds.extend(predicted.cpu().numpy())\n",
    "            all_targets.extend(targets.cpu().numpy())\n",
    "    \n",
    "    test_acc = 100. * correct / total\n",
    "    print(f\"Test Accuracy: {test_acc:.2f}%\")\n",
    "    \n",
    "    return test_acc, np.array(all_preds), np.array(all_targets)\n",
    "\n",
    "\n",
    "def plot_results(train_losses, val_losses, train_accs, val_accs):\n",
    "    \"\"\"\n",
    "    Plot training and validation metrics\n",
    "    \n",
    "    Args:\n",
    "        train_losses: List of training losses\n",
    "        val_losses: List of validation losses\n",
    "        train_accs: List of training accuracies\n",
    "        val_accs: List of validation accuracies\n",
    "    \"\"\"\n",
    "    plt.figure(figsize=(12, 5))\n",
    "    \n",
    "    plt.subplot(1, 2, 1)\n",
    "    plt.plot(train_losses, label='Train Loss')\n",
    "    plt.plot(val_losses, label='Val Loss')\n",
    "    plt.xlabel('Epoch')\n",
    "    plt.ylabel('Loss')\n",
    "    plt.legend()\n",
    "    plt.title('Training and Validation Loss')\n",
    "    \n",
    "    plt.subplot(1, 2, 2)\n",
    "    plt.plot(train_accs, label='Train Accuracy')\n",
    "    plt.plot(val_accs, label='Val Accuracy')\n",
    "    plt.xlabel('Epoch')\n",
    "    plt.ylabel('Accuracy (%)')\n",
    "    plt.legend()\n",
    "    plt.title('Training and Validation Accuracy')\n",
    "    \n",
    "    plt.tight_layout()\n",
    "    plt.savefig('training_history.png')\n",
    "    plt.show()\n",
    "\n",
    "\n",
    "def main():\n",
    "    torch.serialization.add_safe_globals([LabelEncoder])\n",
    "    # Set random seeds for reproducibility\n",
    "    SEED = 42\n",
    "    torch.manual_seed(SEED)\n",
    "    np.random.seed(SEED)\n",
    "    \n",
    "    # 1. Load and preprocess data\n",
    "    data_dir = \"data\"  # Update with your data directory\n",
    "    test_dir = \"test_data\"\n",
    "    sequences, sequence_labels, label_map = load_and_preprocess_data(data_dir)\n",
    "    \n",
    "    print(f\"Loaded {len(sequences)} sequences with shape {sequences.shape}\")\n",
    "    print(f'Sequence Label {len(sequence_labels)}')\n",
    "    print(f\"Number of classes: {len(label_map)}\")\n",
    "    \n",
    "    # 2. Create adjacency matrix\n",
    "\n",
    "    adj_matrix = create_adjacency_matrix()\n",
    "    print(f'Unique Label : {len(np.unique(sequence_labels))}')\n",
    "    X_train,X_val,y_train,y_val = train_test_split(\n",
    "        sequences, sequence_labels, test_size=0.4, random_state=SEED, stratify=sequence_labels\n",
    "    )\n",
    "    print(f'Unique Train : {len(np.unique(y_train))}')\n",
    "    print(f'Unique Val : {len(np.unique(y_val))}')\n",
    "    X_val,X_test,y_val,y_test = train_test_split(\n",
    "        X_val, y_val, test_size=0.5, random_state=SEED, stratify=y_val\n",
    "    )\n",
    "    print(f'Unique Train : {len(np.unique(y_train))}')\n",
    "    print(f'Unique Test : {len(np.unique(y_test))}')\n",
    "    # X_test,y_test, _ = load_and_preprocess_data(test_dir)\n",
    "\n",
    "\n",
    "    # 4. Create datasets and dataloaders\n",
    "    train_dataset = GraphSequenceDataset(X_train, y_train)\n",
    "    val_dataset = GraphSequenceDataset(X_val, y_val)\n",
    "    test_dataset = GraphSequenceDataset(X_test, y_test)\n",
    "    \n",
    "    train_loader = DataLoader(train_dataset, batch_size=32, shuffle=True)\n",
    "    val_loader = DataLoader(val_dataset, batch_size=32, shuffle=False)\n",
    "    test_loader = DataLoader(test_dataset, batch_size=32, shuffle=False)\n",
    "    \n",
    "    # 5. Create and train the model\n",
    "    num_classes = len(label_map)\n",
    "    model = GCNBiLSTM(\n",
    "        num_nodes=NUM_NODES,\n",
    "        in_features=FEATURE_DIM,\n",
    "        gcn_hidden=256,\n",
    "        lstm_hidden=512,\n",
    "        num_classes=num_classes,\n",
    "        num_gcn_layers=2,\n",
    "        dropout=0.3,\n",
    "        label_map=label_map\n",
    "    )\n",
    "    \n",
    "    # 6. Train the model\n",
    "    trained_model, train_losses, val_losses, train_accs, val_accs = train_model(\n",
    "        model, train_loader, val_loader, adj_matrix, \n",
    "        num_epochs=100, lr=0.001, weight_decay=5e-4, \n",
    "        patience=15, model_save_path='best_gcn_bilstm_model.pt'\n",
    "    )\n",
    "    \n",
    "    # 7. Evaluate the model\n",
    "    test_acc, predictions, true_labels = evaluate_model(trained_model, test_loader, adj_matrix)\n",
    "    \n",
    "    # 8. Plot results\n",
    "    plot_results(train_losses, val_losses, train_accs, val_accs)\n",
    "    \n",
    "    # 9. Print classification report\n",
    "    \n",
    "    \n",
    "    print(\"\\nClassification Report:\")\n",
    "    actual_classes = np.unique(true_labels)\n",
    "    print(actual_classes)\n",
    "    class_names = [label_map[int(idx)] for idx in actual_classes]\n",
    "    print(classification_report(true_labels, predictions, target_names=class_names))\n",
    "    \n",
    "    # 10. Plot confusion matrix\n",
    "    plt.figure(figsize=(12, 10))\n",
    "    cm = confusion_matrix(true_labels, predictions)\n",
    "    sns.heatmap(cm, annot=True, fmt='d', cmap='Blues', xticklabels=class_names, yticklabels=class_names)\n",
    "    plt.xlabel('Predicted')\n",
    "    plt.ylabel('True')\n",
    "    plt.title('Confusion Matrix')\n",
    "    plt.tight_layout()\n",
    "    plt.savefig('confusion_matrix.png')\n",
    "    plt.show()\n"
   ]
  },
  {
   "cell_type": "code",
   "execution_count": 2,
   "id": "70decb63",
   "metadata": {},
   "outputs": [
    {
     "name": "stdout",
     "output_type": "stream",
     "text": [
      "Loaded 1722 sequences with shape (1722, 3, 183)\n",
      "Sequence Label 1722\n",
      "Number of classes: 25\n",
      "Unique Label : 25\n",
      "Unique Train : 25\n",
      "Unique Val : 25\n",
      "Unique Train : 25\n",
      "Unique Test : 25\n",
      "Using device: cuda\n"
     ]
    },
    {
     "name": "stderr",
     "output_type": "stream",
     "text": [
      "Epoch 1/100 [Train]: 100%|██████████| 33/33 [00:02<00:00, 12.44it/s, loss=2.88, acc=13.6]\n"
     ]
    },
    {
     "name": "stdout",
     "output_type": "stream",
     "text": [
      "Epoch 1/100 - Train Loss: 2.8834, Train Acc: 13.55% - Val Loss: 2.5057, Val Acc: 16.28%\n",
      "Saved best model to best_gcn_bilstm_model.pt\n"
     ]
    },
    {
     "name": "stderr",
     "output_type": "stream",
     "text": [
      "Epoch 2/100 [Train]: 100%|██████████| 33/33 [00:01<00:00, 16.53it/s, loss=2.19, acc=25.7]\n"
     ]
    },
    {
     "name": "stdout",
     "output_type": "stream",
     "text": [
      "Epoch 2/100 - Train Loss: 2.1939, Train Acc: 25.65% - Val Loss: 2.1387, Val Acc: 28.78%\n",
      "Saved best model to best_gcn_bilstm_model.pt\n"
     ]
    },
    {
     "name": "stderr",
     "output_type": "stream",
     "text": [
      "Epoch 3/100 [Train]: 100%|██████████| 33/33 [00:04<00:00,  7.52it/s, loss=1.83, acc=35.4]\n"
     ]
    },
    {
     "name": "stdout",
     "output_type": "stream",
     "text": [
      "Epoch 3/100 - Train Loss: 1.8253, Train Acc: 35.43% - Val Loss: 1.8384, Val Acc: 36.34%\n",
      "Saved best model to best_gcn_bilstm_model.pt\n"
     ]
    },
    {
     "name": "stderr",
     "output_type": "stream",
     "text": [
      "Epoch 4/100 [Train]: 100%|██████████| 33/33 [00:04<00:00,  7.19it/s, loss=1.6, acc=43.7] \n"
     ]
    },
    {
     "name": "stdout",
     "output_type": "stream",
     "text": [
      "Epoch 4/100 - Train Loss: 1.5995, Train Acc: 43.66% - Val Loss: 1.8402, Val Acc: 39.83%\n"
     ]
    },
    {
     "name": "stderr",
     "output_type": "stream",
     "text": [
      "Epoch 5/100 [Train]: 100%|██████████| 33/33 [00:04<00:00,  7.88it/s, loss=1.52, acc=47]  \n"
     ]
    },
    {
     "name": "stdout",
     "output_type": "stream",
     "text": [
      "Epoch 5/100 - Train Loss: 1.5159, Train Acc: 47.05% - Val Loss: 1.4667, Val Acc: 52.62%\n",
      "Saved best model to best_gcn_bilstm_model.pt\n"
     ]
    },
    {
     "name": "stderr",
     "output_type": "stream",
     "text": [
      "Epoch 6/100 [Train]: 100%|██████████| 33/33 [00:03<00:00,  8.37it/s, loss=1.31, acc=53.3]\n"
     ]
    },
    {
     "name": "stdout",
     "output_type": "stream",
     "text": [
      "Epoch 6/100 - Train Loss: 1.3067, Train Acc: 53.34% - Val Loss: 1.4878, Val Acc: 49.71%\n"
     ]
    },
    {
     "name": "stderr",
     "output_type": "stream",
     "text": [
      "Epoch 7/100 [Train]: 100%|██████████| 33/33 [00:03<00:00,  9.04it/s, loss=1.28, acc=55.6]\n"
     ]
    },
    {
     "name": "stdout",
     "output_type": "stream",
     "text": [
      "Epoch 7/100 - Train Loss: 1.2785, Train Acc: 55.57% - Val Loss: 1.5308, Val Acc: 47.38%\n"
     ]
    },
    {
     "name": "stderr",
     "output_type": "stream",
     "text": [
      "Epoch 8/100 [Train]: 100%|██████████| 33/33 [00:04<00:00,  7.60it/s, loss=1.3, acc=56.1] \n"
     ]
    },
    {
     "name": "stdout",
     "output_type": "stream",
     "text": [
      "Epoch 8/100 - Train Loss: 1.3050, Train Acc: 56.05% - Val Loss: 1.3571, Val Acc: 56.10%\n",
      "Saved best model to best_gcn_bilstm_model.pt\n"
     ]
    },
    {
     "name": "stderr",
     "output_type": "stream",
     "text": [
      "Epoch 9/100 [Train]: 100%|██████████| 33/33 [00:06<00:00,  5.17it/s, loss=1.2, acc=59.9] \n"
     ]
    },
    {
     "name": "stdout",
     "output_type": "stream",
     "text": [
      "Epoch 9/100 - Train Loss: 1.2009, Train Acc: 59.92% - Val Loss: 1.2675, Val Acc: 56.40%\n",
      "Saved best model to best_gcn_bilstm_model.pt\n"
     ]
    },
    {
     "name": "stderr",
     "output_type": "stream",
     "text": [
      "Epoch 10/100 [Train]: 100%|██████████| 33/33 [00:06<00:00,  5.02it/s, loss=1.05, acc=63.5]\n"
     ]
    },
    {
     "name": "stdout",
     "output_type": "stream",
     "text": [
      "Epoch 10/100 - Train Loss: 1.0525, Train Acc: 63.50% - Val Loss: 1.1884, Val Acc: 59.01%\n",
      "Saved best model to best_gcn_bilstm_model.pt\n"
     ]
    },
    {
     "name": "stderr",
     "output_type": "stream",
     "text": [
      "Epoch 11/100 [Train]: 100%|██████████| 33/33 [00:06<00:00,  5.47it/s, loss=1.07, acc=61.3] \n"
     ]
    },
    {
     "name": "stdout",
     "output_type": "stream",
     "text": [
      "Epoch 11/100 - Train Loss: 1.0655, Train Acc: 61.28% - Val Loss: 1.0779, Val Acc: 65.12%\n",
      "Saved best model to best_gcn_bilstm_model.pt\n"
     ]
    },
    {
     "name": "stderr",
     "output_type": "stream",
     "text": [
      "Epoch 12/100 [Train]: 100%|██████████| 33/33 [00:31<00:00,  1.04it/s, loss=0.992, acc=64.9]\n"
     ]
    },
    {
     "name": "stdout",
     "output_type": "stream",
     "text": [
      "Epoch 12/100 - Train Loss: 0.9924, Train Acc: 64.86% - Val Loss: 1.0683, Val Acc: 63.95%\n",
      "Saved best model to best_gcn_bilstm_model.pt\n"
     ]
    },
    {
     "name": "stderr",
     "output_type": "stream",
     "text": [
      "Epoch 13/100 [Train]: 100%|██████████| 33/33 [01:26<00:00,  2.63s/it, loss=0.921, acc=69.1]\n"
     ]
    },
    {
     "name": "stdout",
     "output_type": "stream",
     "text": [
      "Epoch 13/100 - Train Loss: 0.9210, Train Acc: 69.12% - Val Loss: 1.1111, Val Acc: 63.95%\n"
     ]
    },
    {
     "name": "stderr",
     "output_type": "stream",
     "text": [
      "Epoch 14/100 [Train]: 100%|██████████| 33/33 [00:01<00:00, 19.64it/s, loss=0.932, acc=68.4]\n"
     ]
    },
    {
     "name": "stdout",
     "output_type": "stream",
     "text": [
      "Epoch 14/100 - Train Loss: 0.9320, Train Acc: 68.44% - Val Loss: 1.0514, Val Acc: 65.70%\n",
      "Saved best model to best_gcn_bilstm_model.pt\n"
     ]
    },
    {
     "name": "stderr",
     "output_type": "stream",
     "text": [
      "Epoch 15/100 [Train]: 100%|██████████| 33/33 [00:01<00:00, 17.49it/s, loss=0.851, acc=70.1]\n"
     ]
    },
    {
     "name": "stdout",
     "output_type": "stream",
     "text": [
      "Epoch 15/100 - Train Loss: 0.8515, Train Acc: 70.09% - Val Loss: 1.1069, Val Acc: 65.70%\n"
     ]
    },
    {
     "name": "stderr",
     "output_type": "stream",
     "text": [
      "Epoch 16/100 [Train]: 100%|██████████| 33/33 [00:01<00:00, 16.72it/s, loss=0.811, acc=73.1]\n"
     ]
    },
    {
     "name": "stdout",
     "output_type": "stream",
     "text": [
      "Epoch 16/100 - Train Loss: 0.8106, Train Acc: 73.09% - Val Loss: 0.9814, Val Acc: 69.77%\n",
      "Saved best model to best_gcn_bilstm_model.pt\n"
     ]
    },
    {
     "name": "stderr",
     "output_type": "stream",
     "text": [
      "Epoch 17/100 [Train]: 100%|██████████| 33/33 [00:02<00:00, 16.43it/s, loss=0.837, acc=72.4]\n"
     ]
    },
    {
     "name": "stdout",
     "output_type": "stream",
     "text": [
      "Epoch 17/100 - Train Loss: 0.8372, Train Acc: 72.41% - Val Loss: 0.9305, Val Acc: 72.38%\n",
      "Saved best model to best_gcn_bilstm_model.pt\n"
     ]
    },
    {
     "name": "stderr",
     "output_type": "stream",
     "text": [
      "Epoch 18/100 [Train]: 100%|██████████| 33/33 [00:01<00:00, 16.63it/s, loss=0.709, acc=77.4]\n"
     ]
    },
    {
     "name": "stdout",
     "output_type": "stream",
     "text": [
      "Epoch 18/100 - Train Loss: 0.7087, Train Acc: 77.44% - Val Loss: 0.7989, Val Acc: 75.87%\n",
      "Saved best model to best_gcn_bilstm_model.pt\n"
     ]
    },
    {
     "name": "stderr",
     "output_type": "stream",
     "text": [
      "Epoch 19/100 [Train]: 100%|██████████| 33/33 [00:01<00:00, 17.18it/s, loss=0.7, acc=75]    \n"
     ]
    },
    {
     "name": "stdout",
     "output_type": "stream",
     "text": [
      "Epoch 19/100 - Train Loss: 0.6997, Train Acc: 75.02% - Val Loss: 0.9172, Val Acc: 74.71%\n"
     ]
    },
    {
     "name": "stderr",
     "output_type": "stream",
     "text": [
      "Epoch 20/100 [Train]: 100%|██████████| 33/33 [00:01<00:00, 16.86it/s, loss=0.719, acc=75.6]\n"
     ]
    },
    {
     "name": "stdout",
     "output_type": "stream",
     "text": [
      "Epoch 20/100 - Train Loss: 0.7190, Train Acc: 75.61% - Val Loss: 0.8643, Val Acc: 74.42%\n"
     ]
    },
    {
     "name": "stderr",
     "output_type": "stream",
     "text": [
      "Epoch 21/100 [Train]: 100%|██████████| 33/33 [00:01<00:00, 16.58it/s, loss=0.656, acc=77.9]\n"
     ]
    },
    {
     "name": "stdout",
     "output_type": "stream",
     "text": [
      "Epoch 21/100 - Train Loss: 0.6557, Train Acc: 77.93% - Val Loss: 0.8275, Val Acc: 75.00%\n"
     ]
    },
    {
     "name": "stderr",
     "output_type": "stream",
     "text": [
      "Epoch 22/100 [Train]: 100%|██████████| 33/33 [00:01<00:00, 17.56it/s, loss=0.588, acc=80.4]\n"
     ]
    },
    {
     "name": "stdout",
     "output_type": "stream",
     "text": [
      "Epoch 22/100 - Train Loss: 0.5877, Train Acc: 80.45% - Val Loss: 0.7743, Val Acc: 79.94%\n",
      "Saved best model to best_gcn_bilstm_model.pt\n"
     ]
    },
    {
     "name": "stderr",
     "output_type": "stream",
     "text": [
      "Epoch 23/100 [Train]: 100%|██████████| 33/33 [00:01<00:00, 18.16it/s, loss=0.58, acc=81]   \n"
     ]
    },
    {
     "name": "stdout",
     "output_type": "stream",
     "text": [
      "Epoch 23/100 - Train Loss: 0.5797, Train Acc: 81.03% - Val Loss: 0.8612, Val Acc: 76.74%\n"
     ]
    },
    {
     "name": "stderr",
     "output_type": "stream",
     "text": [
      "Epoch 24/100 [Train]: 100%|██████████| 33/33 [00:01<00:00, 16.83it/s, loss=0.593, acc=79.5]\n"
     ]
    },
    {
     "name": "stdout",
     "output_type": "stream",
     "text": [
      "Epoch 24/100 - Train Loss: 0.5932, Train Acc: 79.48% - Val Loss: 0.8592, Val Acc: 78.20%\n"
     ]
    },
    {
     "name": "stderr",
     "output_type": "stream",
     "text": [
      "Epoch 25/100 [Train]: 100%|██████████| 33/33 [00:02<00:00, 16.35it/s, loss=0.615, acc=79]  \n"
     ]
    },
    {
     "name": "stdout",
     "output_type": "stream",
     "text": [
      "Epoch 25/100 - Train Loss: 0.6148, Train Acc: 78.99% - Val Loss: 0.7635, Val Acc: 75.58%\n",
      "Saved best model to best_gcn_bilstm_model.pt\n"
     ]
    },
    {
     "name": "stderr",
     "output_type": "stream",
     "text": [
      "Epoch 26/100 [Train]: 100%|██████████| 33/33 [00:01<00:00, 17.19it/s, loss=0.581, acc=80.2]\n"
     ]
    },
    {
     "name": "stdout",
     "output_type": "stream",
     "text": [
      "Epoch 26/100 - Train Loss: 0.5806, Train Acc: 80.15% - Val Loss: 0.7917, Val Acc: 78.49%\n"
     ]
    },
    {
     "name": "stderr",
     "output_type": "stream",
     "text": [
      "Epoch 27/100 [Train]: 100%|██████████| 33/33 [00:01<00:00, 17.84it/s, loss=0.516, acc=82.7]\n"
     ]
    },
    {
     "name": "stdout",
     "output_type": "stream",
     "text": [
      "Epoch 27/100 - Train Loss: 0.5165, Train Acc: 82.67% - Val Loss: 0.7023, Val Acc: 78.49%\n",
      "Saved best model to best_gcn_bilstm_model.pt\n"
     ]
    },
    {
     "name": "stderr",
     "output_type": "stream",
     "text": [
      "Epoch 28/100 [Train]: 100%|██████████| 33/33 [00:01<00:00, 17.49it/s, loss=0.505, acc=82.2]\n"
     ]
    },
    {
     "name": "stdout",
     "output_type": "stream",
     "text": [
      "Epoch 28/100 - Train Loss: 0.5052, Train Acc: 82.19% - Val Loss: 0.8116, Val Acc: 77.33%\n"
     ]
    },
    {
     "name": "stderr",
     "output_type": "stream",
     "text": [
      "Epoch 29/100 [Train]: 100%|██████████| 33/33 [00:01<00:00, 18.27it/s, loss=0.46, acc=83.4] \n"
     ]
    },
    {
     "name": "stdout",
     "output_type": "stream",
     "text": [
      "Epoch 29/100 - Train Loss: 0.4597, Train Acc: 83.45% - Val Loss: 0.6462, Val Acc: 83.72%\n",
      "Saved best model to best_gcn_bilstm_model.pt\n"
     ]
    },
    {
     "name": "stderr",
     "output_type": "stream",
     "text": [
      "Epoch 30/100 [Train]: 100%|██████████| 33/33 [00:01<00:00, 17.72it/s, loss=0.46, acc=83]   \n"
     ]
    },
    {
     "name": "stdout",
     "output_type": "stream",
     "text": [
      "Epoch 30/100 - Train Loss: 0.4602, Train Acc: 82.96% - Val Loss: 0.7448, Val Acc: 79.07%\n"
     ]
    },
    {
     "name": "stderr",
     "output_type": "stream",
     "text": [
      "Epoch 31/100 [Train]: 100%|██████████| 33/33 [00:01<00:00, 18.05it/s, loss=0.428, acc=86.4]\n"
     ]
    },
    {
     "name": "stdout",
     "output_type": "stream",
     "text": [
      "Epoch 31/100 - Train Loss: 0.4275, Train Acc: 86.35% - Val Loss: 0.6706, Val Acc: 82.56%\n"
     ]
    },
    {
     "name": "stderr",
     "output_type": "stream",
     "text": [
      "Epoch 32/100 [Train]: 100%|██████████| 33/33 [00:01<00:00, 18.03it/s, loss=0.431, acc=85.2]\n"
     ]
    },
    {
     "name": "stdout",
     "output_type": "stream",
     "text": [
      "Epoch 32/100 - Train Loss: 0.4309, Train Acc: 85.19% - Val Loss: 0.6400, Val Acc: 83.14%\n",
      "Saved best model to best_gcn_bilstm_model.pt\n"
     ]
    },
    {
     "name": "stderr",
     "output_type": "stream",
     "text": [
      "Epoch 33/100 [Train]: 100%|██████████| 33/33 [00:01<00:00, 18.30it/s, loss=0.483, acc=83.6]\n"
     ]
    },
    {
     "name": "stdout",
     "output_type": "stream",
     "text": [
      "Epoch 33/100 - Train Loss: 0.4826, Train Acc: 83.64% - Val Loss: 0.6759, Val Acc: 80.52%\n"
     ]
    },
    {
     "name": "stderr",
     "output_type": "stream",
     "text": [
      "Epoch 34/100 [Train]: 100%|██████████| 33/33 [00:01<00:00, 17.57it/s, loss=0.399, acc=87.1]\n"
     ]
    },
    {
     "name": "stdout",
     "output_type": "stream",
     "text": [
      "Epoch 34/100 - Train Loss: 0.3987, Train Acc: 87.12% - Val Loss: 0.6022, Val Acc: 81.40%\n",
      "Saved best model to best_gcn_bilstm_model.pt\n"
     ]
    },
    {
     "name": "stderr",
     "output_type": "stream",
     "text": [
      "Epoch 35/100 [Train]: 100%|██████████| 33/33 [00:01<00:00, 18.57it/s, loss=0.416, acc=85.2]\n"
     ]
    },
    {
     "name": "stdout",
     "output_type": "stream",
     "text": [
      "Epoch 35/100 - Train Loss: 0.4164, Train Acc: 85.19% - Val Loss: 0.7667, Val Acc: 80.52%\n"
     ]
    },
    {
     "name": "stderr",
     "output_type": "stream",
     "text": [
      "Epoch 36/100 [Train]: 100%|██████████| 33/33 [00:01<00:00, 19.88it/s, loss=0.454, acc=84.7]\n"
     ]
    },
    {
     "name": "stdout",
     "output_type": "stream",
     "text": [
      "Epoch 36/100 - Train Loss: 0.4540, Train Acc: 84.70% - Val Loss: 0.7730, Val Acc: 77.03%\n"
     ]
    },
    {
     "name": "stderr",
     "output_type": "stream",
     "text": [
      "Epoch 37/100 [Train]: 100%|██████████| 33/33 [00:01<00:00, 20.54it/s, loss=0.382, acc=86.4]\n"
     ]
    },
    {
     "name": "stdout",
     "output_type": "stream",
     "text": [
      "Epoch 37/100 - Train Loss: 0.3822, Train Acc: 86.45% - Val Loss: 0.6633, Val Acc: 80.52%\n"
     ]
    },
    {
     "name": "stderr",
     "output_type": "stream",
     "text": [
      "Epoch 38/100 [Train]: 100%|██████████| 33/33 [00:01<00:00, 20.22it/s, loss=0.413, acc=84.4]\n"
     ]
    },
    {
     "name": "stdout",
     "output_type": "stream",
     "text": [
      "Epoch 38/100 - Train Loss: 0.4128, Train Acc: 84.41% - Val Loss: 0.6207, Val Acc: 84.01%\n"
     ]
    },
    {
     "name": "stderr",
     "output_type": "stream",
     "text": [
      "Epoch 39/100 [Train]: 100%|██████████| 33/33 [00:01<00:00, 18.16it/s, loss=0.423, acc=85.1]\n"
     ]
    },
    {
     "name": "stdout",
     "output_type": "stream",
     "text": [
      "Epoch 39/100 - Train Loss: 0.4227, Train Acc: 85.09% - Val Loss: 0.6141, Val Acc: 82.85%\n"
     ]
    },
    {
     "name": "stderr",
     "output_type": "stream",
     "text": [
      "Epoch 40/100 [Train]: 100%|██████████| 33/33 [00:01<00:00, 17.69it/s, loss=0.39, acc=87.1] \n"
     ]
    },
    {
     "name": "stdout",
     "output_type": "stream",
     "text": [
      "Epoch 40/100 - Train Loss: 0.3904, Train Acc: 87.12% - Val Loss: 0.6777, Val Acc: 80.81%\n"
     ]
    },
    {
     "name": "stderr",
     "output_type": "stream",
     "text": [
      "Epoch 41/100 [Train]: 100%|██████████| 33/33 [00:01<00:00, 17.02it/s, loss=0.346, acc=89.7]\n"
     ]
    },
    {
     "name": "stdout",
     "output_type": "stream",
     "text": [
      "Epoch 41/100 - Train Loss: 0.3457, Train Acc: 89.74% - Val Loss: 0.5309, Val Acc: 86.92%\n",
      "Saved best model to best_gcn_bilstm_model.pt\n"
     ]
    },
    {
     "name": "stderr",
     "output_type": "stream",
     "text": [
      "Epoch 42/100 [Train]: 100%|██████████| 33/33 [00:01<00:00, 18.32it/s, loss=0.211, acc=92.4]\n"
     ]
    },
    {
     "name": "stdout",
     "output_type": "stream",
     "text": [
      "Epoch 42/100 - Train Loss: 0.2111, Train Acc: 92.35% - Val Loss: 0.5283, Val Acc: 86.34%\n",
      "Saved best model to best_gcn_bilstm_model.pt\n"
     ]
    },
    {
     "name": "stderr",
     "output_type": "stream",
     "text": [
      "Epoch 43/100 [Train]: 100%|██████████| 33/33 [00:01<00:00, 16.92it/s, loss=0.203, acc=93]  \n"
     ]
    },
    {
     "name": "stdout",
     "output_type": "stream",
     "text": [
      "Epoch 43/100 - Train Loss: 0.2026, Train Acc: 93.03% - Val Loss: 0.5977, Val Acc: 83.43%\n"
     ]
    },
    {
     "name": "stderr",
     "output_type": "stream",
     "text": [
      "Epoch 44/100 [Train]: 100%|██████████| 33/33 [00:01<00:00, 17.66it/s, loss=0.242, acc=91.4]\n"
     ]
    },
    {
     "name": "stdout",
     "output_type": "stream",
     "text": [
      "Epoch 44/100 - Train Loss: 0.2419, Train Acc: 91.38% - Val Loss: 0.5118, Val Acc: 86.92%\n",
      "Saved best model to best_gcn_bilstm_model.pt\n"
     ]
    },
    {
     "name": "stderr",
     "output_type": "stream",
     "text": [
      "Epoch 45/100 [Train]: 100%|██████████| 33/33 [00:01<00:00, 19.46it/s, loss=0.195, acc=93.8]\n"
     ]
    },
    {
     "name": "stdout",
     "output_type": "stream",
     "text": [
      "Epoch 45/100 - Train Loss: 0.1950, Train Acc: 93.80% - Val Loss: 0.5158, Val Acc: 86.92%\n"
     ]
    },
    {
     "name": "stderr",
     "output_type": "stream",
     "text": [
      "Epoch 46/100 [Train]: 100%|██████████| 33/33 [00:01<00:00, 18.45it/s, loss=0.192, acc=92.8]\n"
     ]
    },
    {
     "name": "stdout",
     "output_type": "stream",
     "text": [
      "Epoch 46/100 - Train Loss: 0.1923, Train Acc: 92.84% - Val Loss: 0.5536, Val Acc: 87.21%\n"
     ]
    },
    {
     "name": "stderr",
     "output_type": "stream",
     "text": [
      "Epoch 47/100 [Train]: 100%|██████████| 33/33 [00:01<00:00, 17.86it/s, loss=0.205, acc=93]  \n"
     ]
    },
    {
     "name": "stdout",
     "output_type": "stream",
     "text": [
      "Epoch 47/100 - Train Loss: 0.2050, Train Acc: 93.03% - Val Loss: 0.5827, Val Acc: 84.88%\n"
     ]
    },
    {
     "name": "stderr",
     "output_type": "stream",
     "text": [
      "Epoch 48/100 [Train]: 100%|██████████| 33/33 [00:01<00:00, 18.10it/s, loss=0.163, acc=93.7]\n"
     ]
    },
    {
     "name": "stdout",
     "output_type": "stream",
     "text": [
      "Epoch 48/100 - Train Loss: 0.1626, Train Acc: 93.71% - Val Loss: 0.5764, Val Acc: 87.21%\n"
     ]
    },
    {
     "name": "stderr",
     "output_type": "stream",
     "text": [
      "Epoch 49/100 [Train]: 100%|██████████| 33/33 [00:01<00:00, 18.04it/s, loss=0.166, acc=93.5]\n"
     ]
    },
    {
     "name": "stdout",
     "output_type": "stream",
     "text": [
      "Epoch 49/100 - Train Loss: 0.1660, Train Acc: 93.51% - Val Loss: 0.6098, Val Acc: 85.17%\n"
     ]
    },
    {
     "name": "stderr",
     "output_type": "stream",
     "text": [
      "Epoch 50/100 [Train]: 100%|██████████| 33/33 [00:01<00:00, 17.96it/s, loss=0.191, acc=93.2]\n"
     ]
    },
    {
     "name": "stdout",
     "output_type": "stream",
     "text": [
      "Epoch 50/100 - Train Loss: 0.1913, Train Acc: 93.22% - Val Loss: 0.5244, Val Acc: 87.79%\n"
     ]
    },
    {
     "name": "stderr",
     "output_type": "stream",
     "text": [
      "Epoch 51/100 [Train]: 100%|██████████| 33/33 [00:01<00:00, 18.14it/s, loss=0.143, acc=94.7]\n"
     ]
    },
    {
     "name": "stdout",
     "output_type": "stream",
     "text": [
      "Epoch 51/100 - Train Loss: 0.1431, Train Acc: 94.68% - Val Loss: 0.5132, Val Acc: 87.21%\n"
     ]
    },
    {
     "name": "stderr",
     "output_type": "stream",
     "text": [
      "Epoch 52/100 [Train]: 100%|██████████| 33/33 [00:01<00:00, 18.51it/s, loss=0.13, acc=95.1] \n"
     ]
    },
    {
     "name": "stdout",
     "output_type": "stream",
     "text": [
      "Epoch 52/100 - Train Loss: 0.1302, Train Acc: 95.06% - Val Loss: 0.4756, Val Acc: 89.53%\n",
      "Saved best model to best_gcn_bilstm_model.pt\n"
     ]
    },
    {
     "name": "stderr",
     "output_type": "stream",
     "text": [
      "Epoch 53/100 [Train]: 100%|██████████| 33/33 [00:01<00:00, 18.42it/s, loss=0.14, acc=95.3] \n"
     ]
    },
    {
     "name": "stdout",
     "output_type": "stream",
     "text": [
      "Epoch 53/100 - Train Loss: 0.1396, Train Acc: 95.26% - Val Loss: 0.5170, Val Acc: 88.37%\n"
     ]
    },
    {
     "name": "stderr",
     "output_type": "stream",
     "text": [
      "Epoch 54/100 [Train]: 100%|██████████| 33/33 [00:01<00:00, 17.88it/s, loss=0.119, acc=96.1]\n"
     ]
    },
    {
     "name": "stdout",
     "output_type": "stream",
     "text": [
      "Epoch 54/100 - Train Loss: 0.1188, Train Acc: 96.13% - Val Loss: 0.4921, Val Acc: 88.95%\n"
     ]
    },
    {
     "name": "stderr",
     "output_type": "stream",
     "text": [
      "Epoch 55/100 [Train]: 100%|██████████| 33/33 [00:01<00:00, 18.29it/s, loss=0.102, acc=97]   \n"
     ]
    },
    {
     "name": "stdout",
     "output_type": "stream",
     "text": [
      "Epoch 55/100 - Train Loss: 0.1016, Train Acc: 97.00% - Val Loss: 0.5245, Val Acc: 88.37%\n"
     ]
    },
    {
     "name": "stderr",
     "output_type": "stream",
     "text": [
      "Epoch 56/100 [Train]: 100%|██████████| 33/33 [00:01<00:00, 18.92it/s, loss=0.0956, acc=97.1]\n"
     ]
    },
    {
     "name": "stdout",
     "output_type": "stream",
     "text": [
      "Epoch 56/100 - Train Loss: 0.0956, Train Acc: 97.10% - Val Loss: 0.5183, Val Acc: 88.37%\n"
     ]
    },
    {
     "name": "stderr",
     "output_type": "stream",
     "text": [
      "Epoch 57/100 [Train]: 100%|██████████| 33/33 [00:01<00:00, 18.80it/s, loss=0.104, acc=97.1] \n"
     ]
    },
    {
     "name": "stdout",
     "output_type": "stream",
     "text": [
      "Epoch 57/100 - Train Loss: 0.1044, Train Acc: 97.10% - Val Loss: 0.5376, Val Acc: 88.95%\n"
     ]
    },
    {
     "name": "stderr",
     "output_type": "stream",
     "text": [
      "Epoch 58/100 [Train]: 100%|██████████| 33/33 [00:01<00:00, 18.31it/s, loss=0.113, acc=95.7]\n"
     ]
    },
    {
     "name": "stdout",
     "output_type": "stream",
     "text": [
      "Epoch 58/100 - Train Loss: 0.1135, Train Acc: 95.74% - Val Loss: 0.5039, Val Acc: 90.12%\n"
     ]
    },
    {
     "name": "stderr",
     "output_type": "stream",
     "text": [
      "Epoch 59/100 [Train]: 100%|██████████| 33/33 [00:01<00:00, 18.36it/s, loss=0.094, acc=97]   \n"
     ]
    },
    {
     "name": "stdout",
     "output_type": "stream",
     "text": [
      "Epoch 59/100 - Train Loss: 0.0940, Train Acc: 97.00% - Val Loss: 0.4994, Val Acc: 89.24%\n"
     ]
    },
    {
     "name": "stderr",
     "output_type": "stream",
     "text": [
      "Epoch 60/100 [Train]: 100%|██████████| 33/33 [00:01<00:00, 18.46it/s, loss=0.0919, acc=96.5]\n"
     ]
    },
    {
     "name": "stdout",
     "output_type": "stream",
     "text": [
      "Epoch 60/100 - Train Loss: 0.0919, Train Acc: 96.52% - Val Loss: 0.5020, Val Acc: 88.37%\n"
     ]
    },
    {
     "name": "stderr",
     "output_type": "stream",
     "text": [
      "Epoch 61/100 [Train]: 100%|██████████| 33/33 [00:01<00:00, 18.30it/s, loss=0.0873, acc=97.4]\n"
     ]
    },
    {
     "name": "stdout",
     "output_type": "stream",
     "text": [
      "Epoch 61/100 - Train Loss: 0.0873, Train Acc: 97.39% - Val Loss: 0.5262, Val Acc: 89.83%\n"
     ]
    },
    {
     "name": "stderr",
     "output_type": "stream",
     "text": [
      "Epoch 62/100 [Train]: 100%|██████████| 33/33 [00:01<00:00, 18.03it/s, loss=0.0792, acc=97.7]\n"
     ]
    },
    {
     "name": "stdout",
     "output_type": "stream",
     "text": [
      "Epoch 62/100 - Train Loss: 0.0792, Train Acc: 97.68% - Val Loss: 0.5254, Val Acc: 88.95%\n"
     ]
    },
    {
     "name": "stderr",
     "output_type": "stream",
     "text": [
      "Epoch 63/100 [Train]: 100%|██████████| 33/33 [00:01<00:00, 18.82it/s, loss=0.08, acc=97.2]  \n"
     ]
    },
    {
     "name": "stdout",
     "output_type": "stream",
     "text": [
      "Epoch 63/100 - Train Loss: 0.0800, Train Acc: 97.19% - Val Loss: 0.5160, Val Acc: 88.95%\n"
     ]
    },
    {
     "name": "stderr",
     "output_type": "stream",
     "text": [
      "Epoch 64/100 [Train]: 100%|██████████| 33/33 [00:01<00:00, 18.53it/s, loss=0.0795, acc=97.6]\n"
     ]
    },
    {
     "name": "stdout",
     "output_type": "stream",
     "text": [
      "Epoch 64/100 - Train Loss: 0.0795, Train Acc: 97.58% - Val Loss: 0.5122, Val Acc: 89.53%\n"
     ]
    },
    {
     "name": "stderr",
     "output_type": "stream",
     "text": [
      "Epoch 65/100 [Train]: 100%|██████████| 33/33 [00:01<00:00, 18.27it/s, loss=0.0657, acc=98.2]\n"
     ]
    },
    {
     "name": "stdout",
     "output_type": "stream",
     "text": [
      "Epoch 65/100 - Train Loss: 0.0657, Train Acc: 98.16% - Val Loss: 0.5274, Val Acc: 88.66%\n"
     ]
    },
    {
     "name": "stderr",
     "output_type": "stream",
     "text": [
      "Epoch 66/100 [Train]: 100%|██████████| 33/33 [00:01<00:00, 18.75it/s, loss=0.0649, acc=98.4]\n"
     ]
    },
    {
     "name": "stdout",
     "output_type": "stream",
     "text": [
      "Epoch 66/100 - Train Loss: 0.0649, Train Acc: 98.35% - Val Loss: 0.5218, Val Acc: 89.53%\n"
     ]
    },
    {
     "name": "stderr",
     "output_type": "stream",
     "text": [
      "Epoch 67/100 [Train]: 100%|██████████| 33/33 [00:01<00:00, 18.60it/s, loss=0.0701, acc=97.9]\n"
     ]
    },
    {
     "name": "stdout",
     "output_type": "stream",
     "text": [
      "Epoch 67/100 - Train Loss: 0.0701, Train Acc: 97.87% - Val Loss: 0.5065, Val Acc: 89.53%\n",
      "Early stopping triggered after 67 epochs\n",
      "Test Accuracy: 89.57%\n"
     ]
    },
    {
     "data": {
      "image/png": "[encoded data removed]",
      "text/plain": [
       "<Figure size 1200x500 with 2 Axes>"
      ]
     },
     "metadata": {},
     "output_type": "display_data"
    },
    {
     "name": "stdout",
     "output_type": "stream",
     "text": [
      "\n",
      "Classification Report:\n",
      "[ 0  1  2  3  4  5  6  7  8  9 10 11 12 13 14 15 16 17 18 19 20 21 22 23\n",
      " 24]\n",
      "               precision    recall  f1-score   support\n",
      "\n",
      "         baca       0.77      0.83      0.80        12\n",
      "        bantu       0.90      0.82      0.86        11\n",
      "        bapak       0.92      1.00      0.96        12\n",
      "buangairkecil       1.00      0.83      0.91         6\n",
      "         buat       0.93      1.00      0.96        13\n",
      "         halo       1.00      1.00      1.00        18\n",
      "          ibu       1.00      1.00      1.00         4\n",
      "         kamu       0.86      0.63      0.73        19\n",
      "         maaf       1.00      1.00      1.00        18\n",
      "        makan       0.93      0.93      0.93        14\n",
      "          mau       1.00      1.00      1.00        17\n",
      "         nama       0.80      0.67      0.73        18\n",
      "         pagi       1.00      0.95      0.97        20\n",
      "        paham       0.95      1.00      0.98        20\n",
      "        sakit       1.00      1.00      1.00         3\n",
      "    sama-sama       0.76      1.00      0.86        25\n",
      "         saya       0.50      0.50      0.50         6\n",
      "      selamat       0.80      0.89      0.84        18\n",
      "        siapa       0.80      0.67      0.73        12\n",
      "        tanya       0.88      0.88      0.88        17\n",
      "       tempat       1.00      0.50      0.67         4\n",
      " terima-kasih       0.89      0.89      0.89        18\n",
      "    terlambat       1.00      1.00      1.00        13\n",
      "        tidak       1.00      1.00      1.00        14\n",
      "       tolong       0.86      0.92      0.89        13\n",
      "\n",
      "     accuracy                           0.90       345\n",
      "    macro avg       0.90      0.88      0.88       345\n",
      " weighted avg       0.90      0.90      0.89       345\n",
      "\n"
     ]
    },
    {
     "data": {
      "image/png": "[encoded data removed]",
      "text/plain": [
       "<Figure size 1200x1000 with 2 Axes>"
      ]
     },
     "metadata": {},
     "output_type": "display_data"
    }
   ],
   "source": [
    "main()"
   ]
  }
 ],
 "metadata": {
  "kernelspec": {
   "display_name": "ASLR",
   "language": "python",
   "name": "python3"
  },
  "language_info": {
   "codemirror_mode": {
    "name": "ipython",
    "version": 3
   },
   "file_extension": ".py",
   "mimetype": "text/x-python",
   "name": "python",
   "nbconvert_exporter": "python",
   "pygments_lexer": "ipython3",
   "version": "3.12.10"
  }
 },
 "nbformat": 4,
 "nbformat_minor": 5
}
